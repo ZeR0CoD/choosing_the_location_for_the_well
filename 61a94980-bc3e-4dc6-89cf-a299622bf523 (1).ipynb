{
 "cells": [
  {
   "cell_type": "markdown",
   "metadata": {},
   "source": [
    "## Загрузка и подготовка данных"
   ]
  },
  {
   "cell_type": "code",
   "execution_count": 1,
   "metadata": {},
   "outputs": [],
   "source": [
    "import pandas as pd\n",
    "from sklearn.model_selection import train_test_split\n",
    "from sklearn.linear_model import LinearRegression\n",
    "from sklearn.preprocessing import StandardScaler\n",
    "from sklearn.metrics import accuracy_score, mean_squared_error, r2_score\n",
    "from scipy import stats as st\n",
    "import matplotlib.pyplot as plt\n",
    "import numpy as np"
   ]
  },
  {
   "cell_type": "code",
   "execution_count": 2,
   "metadata": {},
   "outputs": [],
   "source": [
    "data_0 = pd.read_csv('/datasets/geo_data_0.csv')\n",
    "data_1 = pd.read_csv('/datasets/geo_data_1.csv')\n",
    "data_2 = pd.read_csv('/datasets/geo_data_2.csv')"
   ]
  },
  {
   "cell_type": "code",
   "execution_count": 3,
   "metadata": {},
   "outputs": [
    {
     "data": {
      "text/html": [
       "<div>\n",
       "<style scoped>\n",
       "    .dataframe tbody tr th:only-of-type {\n",
       "        vertical-align: middle;\n",
       "    }\n",
       "\n",
       "    .dataframe tbody tr th {\n",
       "        vertical-align: top;\n",
       "    }\n",
       "\n",
       "    .dataframe thead th {\n",
       "        text-align: right;\n",
       "    }\n",
       "</style>\n",
       "<table border=\"1\" class=\"dataframe\">\n",
       "  <thead>\n",
       "    <tr style=\"text-align: right;\">\n",
       "      <th></th>\n",
       "      <th>id</th>\n",
       "      <th>f0</th>\n",
       "      <th>f1</th>\n",
       "      <th>f2</th>\n",
       "      <th>product</th>\n",
       "    </tr>\n",
       "  </thead>\n",
       "  <tbody>\n",
       "    <tr>\n",
       "      <th>0</th>\n",
       "      <td>txEyH</td>\n",
       "      <td>0.705745</td>\n",
       "      <td>-0.497823</td>\n",
       "      <td>1.221170</td>\n",
       "      <td>105.280062</td>\n",
       "    </tr>\n",
       "    <tr>\n",
       "      <th>1</th>\n",
       "      <td>2acmU</td>\n",
       "      <td>1.334711</td>\n",
       "      <td>-0.340164</td>\n",
       "      <td>4.365080</td>\n",
       "      <td>73.037750</td>\n",
       "    </tr>\n",
       "    <tr>\n",
       "      <th>2</th>\n",
       "      <td>409Wp</td>\n",
       "      <td>1.022732</td>\n",
       "      <td>0.151990</td>\n",
       "      <td>1.419926</td>\n",
       "      <td>85.265647</td>\n",
       "    </tr>\n",
       "    <tr>\n",
       "      <th>3</th>\n",
       "      <td>iJLyR</td>\n",
       "      <td>-0.032172</td>\n",
       "      <td>0.139033</td>\n",
       "      <td>2.978566</td>\n",
       "      <td>168.620776</td>\n",
       "    </tr>\n",
       "    <tr>\n",
       "      <th>4</th>\n",
       "      <td>Xdl7t</td>\n",
       "      <td>1.988431</td>\n",
       "      <td>0.155413</td>\n",
       "      <td>4.751769</td>\n",
       "      <td>154.036647</td>\n",
       "    </tr>\n",
       "  </tbody>\n",
       "</table>\n",
       "</div>"
      ],
      "text/plain": [
       "      id        f0        f1        f2     product\n",
       "0  txEyH  0.705745 -0.497823  1.221170  105.280062\n",
       "1  2acmU  1.334711 -0.340164  4.365080   73.037750\n",
       "2  409Wp  1.022732  0.151990  1.419926   85.265647\n",
       "3  iJLyR -0.032172  0.139033  2.978566  168.620776\n",
       "4  Xdl7t  1.988431  0.155413  4.751769  154.036647"
      ]
     },
     "execution_count": 3,
     "metadata": {},
     "output_type": "execute_result"
    }
   ],
   "source": [
    "data_0.head()"
   ]
  },
  {
   "cell_type": "code",
   "execution_count": 4,
   "metadata": {},
   "outputs": [
    {
     "name": "stdout",
     "output_type": "stream",
     "text": [
      "<class 'pandas.core.frame.DataFrame'>\n",
      "RangeIndex: 100000 entries, 0 to 99999\n",
      "Data columns (total 5 columns):\n",
      " #   Column   Non-Null Count   Dtype  \n",
      "---  ------   --------------   -----  \n",
      " 0   id       100000 non-null  object \n",
      " 1   f0       100000 non-null  float64\n",
      " 2   f1       100000 non-null  float64\n",
      " 3   f2       100000 non-null  float64\n",
      " 4   product  100000 non-null  float64\n",
      "dtypes: float64(4), object(1)\n",
      "memory usage: 3.8+ MB\n"
     ]
    }
   ],
   "source": [
    "data_0.info()"
   ]
  },
  {
   "cell_type": "code",
   "execution_count": 5,
   "metadata": {},
   "outputs": [
    {
     "data": {
      "text/html": [
       "<div>\n",
       "<style scoped>\n",
       "    .dataframe tbody tr th:only-of-type {\n",
       "        vertical-align: middle;\n",
       "    }\n",
       "\n",
       "    .dataframe tbody tr th {\n",
       "        vertical-align: top;\n",
       "    }\n",
       "\n",
       "    .dataframe thead th {\n",
       "        text-align: right;\n",
       "    }\n",
       "</style>\n",
       "<table border=\"1\" class=\"dataframe\">\n",
       "  <thead>\n",
       "    <tr style=\"text-align: right;\">\n",
       "      <th></th>\n",
       "      <th>f0</th>\n",
       "      <th>f1</th>\n",
       "      <th>f2</th>\n",
       "      <th>product</th>\n",
       "    </tr>\n",
       "  </thead>\n",
       "  <tbody>\n",
       "    <tr>\n",
       "      <th>f0</th>\n",
       "      <td>1.000000</td>\n",
       "      <td>-0.440723</td>\n",
       "      <td>-0.003153</td>\n",
       "      <td>0.143536</td>\n",
       "    </tr>\n",
       "    <tr>\n",
       "      <th>f1</th>\n",
       "      <td>-0.440723</td>\n",
       "      <td>1.000000</td>\n",
       "      <td>0.001724</td>\n",
       "      <td>-0.192356</td>\n",
       "    </tr>\n",
       "    <tr>\n",
       "      <th>f2</th>\n",
       "      <td>-0.003153</td>\n",
       "      <td>0.001724</td>\n",
       "      <td>1.000000</td>\n",
       "      <td>0.483663</td>\n",
       "    </tr>\n",
       "    <tr>\n",
       "      <th>product</th>\n",
       "      <td>0.143536</td>\n",
       "      <td>-0.192356</td>\n",
       "      <td>0.483663</td>\n",
       "      <td>1.000000</td>\n",
       "    </tr>\n",
       "  </tbody>\n",
       "</table>\n",
       "</div>"
      ],
      "text/plain": [
       "               f0        f1        f2   product\n",
       "f0       1.000000 -0.440723 -0.003153  0.143536\n",
       "f1      -0.440723  1.000000  0.001724 -0.192356\n",
       "f2      -0.003153  0.001724  1.000000  0.483663\n",
       "product  0.143536 -0.192356  0.483663  1.000000"
      ]
     },
     "metadata": {},
     "output_type": "display_data"
    },
    {
     "data": {
      "text/html": [
       "<div>\n",
       "<style scoped>\n",
       "    .dataframe tbody tr th:only-of-type {\n",
       "        vertical-align: middle;\n",
       "    }\n",
       "\n",
       "    .dataframe tbody tr th {\n",
       "        vertical-align: top;\n",
       "    }\n",
       "\n",
       "    .dataframe thead th {\n",
       "        text-align: right;\n",
       "    }\n",
       "</style>\n",
       "<table border=\"1\" class=\"dataframe\">\n",
       "  <thead>\n",
       "    <tr style=\"text-align: right;\">\n",
       "      <th></th>\n",
       "      <th>f0</th>\n",
       "      <th>f1</th>\n",
       "      <th>f2</th>\n",
       "      <th>product</th>\n",
       "    </tr>\n",
       "  </thead>\n",
       "  <tbody>\n",
       "    <tr>\n",
       "      <th>count</th>\n",
       "      <td>100000.000000</td>\n",
       "      <td>100000.000000</td>\n",
       "      <td>100000.000000</td>\n",
       "      <td>100000.000000</td>\n",
       "    </tr>\n",
       "    <tr>\n",
       "      <th>mean</th>\n",
       "      <td>0.500419</td>\n",
       "      <td>0.250143</td>\n",
       "      <td>2.502647</td>\n",
       "      <td>92.500000</td>\n",
       "    </tr>\n",
       "    <tr>\n",
       "      <th>std</th>\n",
       "      <td>0.871832</td>\n",
       "      <td>0.504433</td>\n",
       "      <td>3.248248</td>\n",
       "      <td>44.288691</td>\n",
       "    </tr>\n",
       "    <tr>\n",
       "      <th>min</th>\n",
       "      <td>-1.408605</td>\n",
       "      <td>-0.848218</td>\n",
       "      <td>-12.088328</td>\n",
       "      <td>0.000000</td>\n",
       "    </tr>\n",
       "    <tr>\n",
       "      <th>25%</th>\n",
       "      <td>-0.072580</td>\n",
       "      <td>-0.200881</td>\n",
       "      <td>0.287748</td>\n",
       "      <td>56.497507</td>\n",
       "    </tr>\n",
       "    <tr>\n",
       "      <th>50%</th>\n",
       "      <td>0.502360</td>\n",
       "      <td>0.250252</td>\n",
       "      <td>2.515969</td>\n",
       "      <td>91.849972</td>\n",
       "    </tr>\n",
       "    <tr>\n",
       "      <th>75%</th>\n",
       "      <td>1.073581</td>\n",
       "      <td>0.700646</td>\n",
       "      <td>4.715088</td>\n",
       "      <td>128.564089</td>\n",
       "    </tr>\n",
       "    <tr>\n",
       "      <th>max</th>\n",
       "      <td>2.362331</td>\n",
       "      <td>1.343769</td>\n",
       "      <td>16.003790</td>\n",
       "      <td>185.364347</td>\n",
       "    </tr>\n",
       "  </tbody>\n",
       "</table>\n",
       "</div>"
      ],
      "text/plain": [
       "                  f0             f1             f2        product\n",
       "count  100000.000000  100000.000000  100000.000000  100000.000000\n",
       "mean        0.500419       0.250143       2.502647      92.500000\n",
       "std         0.871832       0.504433       3.248248      44.288691\n",
       "min        -1.408605      -0.848218     -12.088328       0.000000\n",
       "25%        -0.072580      -0.200881       0.287748      56.497507\n",
       "50%         0.502360       0.250252       2.515969      91.849972\n",
       "75%         1.073581       0.700646       4.715088     128.564089\n",
       "max         2.362331       1.343769      16.003790     185.364347"
      ]
     },
     "metadata": {},
     "output_type": "display_data"
    },
    {
     "name": "stdout",
     "output_type": "stream",
     "text": [
      "False    100000\n",
      "dtype: int64\n"
     ]
    }
   ],
   "source": [
    "display(data_0.corr())\n",
    "display(data_0.describe())\n",
    "print(data_0.duplicated().value_counts())"
   ]
  },
  {
   "cell_type": "code",
   "execution_count": 6,
   "metadata": {},
   "outputs": [
    {
     "data": {
      "text/html": [
       "<div>\n",
       "<style scoped>\n",
       "    .dataframe tbody tr th:only-of-type {\n",
       "        vertical-align: middle;\n",
       "    }\n",
       "\n",
       "    .dataframe tbody tr th {\n",
       "        vertical-align: top;\n",
       "    }\n",
       "\n",
       "    .dataframe thead th {\n",
       "        text-align: right;\n",
       "    }\n",
       "</style>\n",
       "<table border=\"1\" class=\"dataframe\">\n",
       "  <thead>\n",
       "    <tr style=\"text-align: right;\">\n",
       "      <th></th>\n",
       "      <th>id</th>\n",
       "      <th>f0</th>\n",
       "      <th>f1</th>\n",
       "      <th>f2</th>\n",
       "      <th>product</th>\n",
       "    </tr>\n",
       "  </thead>\n",
       "  <tbody>\n",
       "    <tr>\n",
       "      <th>0</th>\n",
       "      <td>kBEdx</td>\n",
       "      <td>-15.001348</td>\n",
       "      <td>-8.276000</td>\n",
       "      <td>-0.005876</td>\n",
       "      <td>3.179103</td>\n",
       "    </tr>\n",
       "    <tr>\n",
       "      <th>1</th>\n",
       "      <td>62mP7</td>\n",
       "      <td>14.272088</td>\n",
       "      <td>-3.475083</td>\n",
       "      <td>0.999183</td>\n",
       "      <td>26.953261</td>\n",
       "    </tr>\n",
       "    <tr>\n",
       "      <th>2</th>\n",
       "      <td>vyE1P</td>\n",
       "      <td>6.263187</td>\n",
       "      <td>-5.948386</td>\n",
       "      <td>5.001160</td>\n",
       "      <td>134.766305</td>\n",
       "    </tr>\n",
       "    <tr>\n",
       "      <th>3</th>\n",
       "      <td>KcrkZ</td>\n",
       "      <td>-13.081196</td>\n",
       "      <td>-11.506057</td>\n",
       "      <td>4.999415</td>\n",
       "      <td>137.945408</td>\n",
       "    </tr>\n",
       "    <tr>\n",
       "      <th>4</th>\n",
       "      <td>AHL4O</td>\n",
       "      <td>12.702195</td>\n",
       "      <td>-8.147433</td>\n",
       "      <td>5.004363</td>\n",
       "      <td>134.766305</td>\n",
       "    </tr>\n",
       "  </tbody>\n",
       "</table>\n",
       "</div>"
      ],
      "text/plain": [
       "      id         f0         f1        f2     product\n",
       "0  kBEdx -15.001348  -8.276000 -0.005876    3.179103\n",
       "1  62mP7  14.272088  -3.475083  0.999183   26.953261\n",
       "2  vyE1P   6.263187  -5.948386  5.001160  134.766305\n",
       "3  KcrkZ -13.081196 -11.506057  4.999415  137.945408\n",
       "4  AHL4O  12.702195  -8.147433  5.004363  134.766305"
      ]
     },
     "execution_count": 6,
     "metadata": {},
     "output_type": "execute_result"
    }
   ],
   "source": [
    "data_1.head()"
   ]
  },
  {
   "cell_type": "code",
   "execution_count": 7,
   "metadata": {},
   "outputs": [
    {
     "name": "stdout",
     "output_type": "stream",
     "text": [
      "<class 'pandas.core.frame.DataFrame'>\n",
      "RangeIndex: 100000 entries, 0 to 99999\n",
      "Data columns (total 5 columns):\n",
      " #   Column   Non-Null Count   Dtype  \n",
      "---  ------   --------------   -----  \n",
      " 0   id       100000 non-null  object \n",
      " 1   f0       100000 non-null  float64\n",
      " 2   f1       100000 non-null  float64\n",
      " 3   f2       100000 non-null  float64\n",
      " 4   product  100000 non-null  float64\n",
      "dtypes: float64(4), object(1)\n",
      "memory usage: 3.8+ MB\n"
     ]
    }
   ],
   "source": [
    "data_1.info()"
   ]
  },
  {
   "cell_type": "code",
   "execution_count": 8,
   "metadata": {},
   "outputs": [
    {
     "data": {
      "text/html": [
       "<div>\n",
       "<style scoped>\n",
       "    .dataframe tbody tr th:only-of-type {\n",
       "        vertical-align: middle;\n",
       "    }\n",
       "\n",
       "    .dataframe tbody tr th {\n",
       "        vertical-align: top;\n",
       "    }\n",
       "\n",
       "    .dataframe thead th {\n",
       "        text-align: right;\n",
       "    }\n",
       "</style>\n",
       "<table border=\"1\" class=\"dataframe\">\n",
       "  <thead>\n",
       "    <tr style=\"text-align: right;\">\n",
       "      <th></th>\n",
       "      <th>f0</th>\n",
       "      <th>f1</th>\n",
       "      <th>f2</th>\n",
       "      <th>product</th>\n",
       "    </tr>\n",
       "  </thead>\n",
       "  <tbody>\n",
       "    <tr>\n",
       "      <th>f0</th>\n",
       "      <td>1.000000</td>\n",
       "      <td>0.182287</td>\n",
       "      <td>-0.001777</td>\n",
       "      <td>-0.030491</td>\n",
       "    </tr>\n",
       "    <tr>\n",
       "      <th>f1</th>\n",
       "      <td>0.182287</td>\n",
       "      <td>1.000000</td>\n",
       "      <td>-0.002595</td>\n",
       "      <td>-0.010155</td>\n",
       "    </tr>\n",
       "    <tr>\n",
       "      <th>f2</th>\n",
       "      <td>-0.001777</td>\n",
       "      <td>-0.002595</td>\n",
       "      <td>1.000000</td>\n",
       "      <td>0.999397</td>\n",
       "    </tr>\n",
       "    <tr>\n",
       "      <th>product</th>\n",
       "      <td>-0.030491</td>\n",
       "      <td>-0.010155</td>\n",
       "      <td>0.999397</td>\n",
       "      <td>1.000000</td>\n",
       "    </tr>\n",
       "  </tbody>\n",
       "</table>\n",
       "</div>"
      ],
      "text/plain": [
       "               f0        f1        f2   product\n",
       "f0       1.000000  0.182287 -0.001777 -0.030491\n",
       "f1       0.182287  1.000000 -0.002595 -0.010155\n",
       "f2      -0.001777 -0.002595  1.000000  0.999397\n",
       "product -0.030491 -0.010155  0.999397  1.000000"
      ]
     },
     "metadata": {},
     "output_type": "display_data"
    },
    {
     "data": {
      "text/html": [
       "<div>\n",
       "<style scoped>\n",
       "    .dataframe tbody tr th:only-of-type {\n",
       "        vertical-align: middle;\n",
       "    }\n",
       "\n",
       "    .dataframe tbody tr th {\n",
       "        vertical-align: top;\n",
       "    }\n",
       "\n",
       "    .dataframe thead th {\n",
       "        text-align: right;\n",
       "    }\n",
       "</style>\n",
       "<table border=\"1\" class=\"dataframe\">\n",
       "  <thead>\n",
       "    <tr style=\"text-align: right;\">\n",
       "      <th></th>\n",
       "      <th>f0</th>\n",
       "      <th>f1</th>\n",
       "      <th>f2</th>\n",
       "      <th>product</th>\n",
       "    </tr>\n",
       "  </thead>\n",
       "  <tbody>\n",
       "    <tr>\n",
       "      <th>count</th>\n",
       "      <td>100000.000000</td>\n",
       "      <td>100000.000000</td>\n",
       "      <td>100000.000000</td>\n",
       "      <td>100000.000000</td>\n",
       "    </tr>\n",
       "    <tr>\n",
       "      <th>mean</th>\n",
       "      <td>1.141296</td>\n",
       "      <td>-4.796579</td>\n",
       "      <td>2.494541</td>\n",
       "      <td>68.825000</td>\n",
       "    </tr>\n",
       "    <tr>\n",
       "      <th>std</th>\n",
       "      <td>8.965932</td>\n",
       "      <td>5.119872</td>\n",
       "      <td>1.703572</td>\n",
       "      <td>45.944423</td>\n",
       "    </tr>\n",
       "    <tr>\n",
       "      <th>min</th>\n",
       "      <td>-31.609576</td>\n",
       "      <td>-26.358598</td>\n",
       "      <td>-0.018144</td>\n",
       "      <td>0.000000</td>\n",
       "    </tr>\n",
       "    <tr>\n",
       "      <th>25%</th>\n",
       "      <td>-6.298551</td>\n",
       "      <td>-8.267985</td>\n",
       "      <td>1.000021</td>\n",
       "      <td>26.953261</td>\n",
       "    </tr>\n",
       "    <tr>\n",
       "      <th>50%</th>\n",
       "      <td>1.153055</td>\n",
       "      <td>-4.813172</td>\n",
       "      <td>2.011479</td>\n",
       "      <td>57.085625</td>\n",
       "    </tr>\n",
       "    <tr>\n",
       "      <th>75%</th>\n",
       "      <td>8.621015</td>\n",
       "      <td>-1.332816</td>\n",
       "      <td>3.999904</td>\n",
       "      <td>107.813044</td>\n",
       "    </tr>\n",
       "    <tr>\n",
       "      <th>max</th>\n",
       "      <td>29.421755</td>\n",
       "      <td>18.734063</td>\n",
       "      <td>5.019721</td>\n",
       "      <td>137.945408</td>\n",
       "    </tr>\n",
       "  </tbody>\n",
       "</table>\n",
       "</div>"
      ],
      "text/plain": [
       "                  f0             f1             f2        product\n",
       "count  100000.000000  100000.000000  100000.000000  100000.000000\n",
       "mean        1.141296      -4.796579       2.494541      68.825000\n",
       "std         8.965932       5.119872       1.703572      45.944423\n",
       "min       -31.609576     -26.358598      -0.018144       0.000000\n",
       "25%        -6.298551      -8.267985       1.000021      26.953261\n",
       "50%         1.153055      -4.813172       2.011479      57.085625\n",
       "75%         8.621015      -1.332816       3.999904     107.813044\n",
       "max        29.421755      18.734063       5.019721     137.945408"
      ]
     },
     "metadata": {},
     "output_type": "display_data"
    },
    {
     "name": "stdout",
     "output_type": "stream",
     "text": [
      "False    100000\n",
      "dtype: int64\n"
     ]
    }
   ],
   "source": [
    "display(data_1.corr())\n",
    "display(data_1.describe())\n",
    "print(data_1.duplicated().value_counts())"
   ]
  },
  {
   "cell_type": "code",
   "execution_count": 9,
   "metadata": {},
   "outputs": [
    {
     "data": {
      "text/html": [
       "<div>\n",
       "<style scoped>\n",
       "    .dataframe tbody tr th:only-of-type {\n",
       "        vertical-align: middle;\n",
       "    }\n",
       "\n",
       "    .dataframe tbody tr th {\n",
       "        vertical-align: top;\n",
       "    }\n",
       "\n",
       "    .dataframe thead th {\n",
       "        text-align: right;\n",
       "    }\n",
       "</style>\n",
       "<table border=\"1\" class=\"dataframe\">\n",
       "  <thead>\n",
       "    <tr style=\"text-align: right;\">\n",
       "      <th></th>\n",
       "      <th>id</th>\n",
       "      <th>f0</th>\n",
       "      <th>f1</th>\n",
       "      <th>f2</th>\n",
       "      <th>product</th>\n",
       "    </tr>\n",
       "  </thead>\n",
       "  <tbody>\n",
       "    <tr>\n",
       "      <th>0</th>\n",
       "      <td>fwXo0</td>\n",
       "      <td>-1.146987</td>\n",
       "      <td>0.963328</td>\n",
       "      <td>-0.828965</td>\n",
       "      <td>27.758673</td>\n",
       "    </tr>\n",
       "    <tr>\n",
       "      <th>1</th>\n",
       "      <td>WJtFt</td>\n",
       "      <td>0.262778</td>\n",
       "      <td>0.269839</td>\n",
       "      <td>-2.530187</td>\n",
       "      <td>56.069697</td>\n",
       "    </tr>\n",
       "    <tr>\n",
       "      <th>2</th>\n",
       "      <td>ovLUW</td>\n",
       "      <td>0.194587</td>\n",
       "      <td>0.289035</td>\n",
       "      <td>-5.586433</td>\n",
       "      <td>62.871910</td>\n",
       "    </tr>\n",
       "    <tr>\n",
       "      <th>3</th>\n",
       "      <td>q6cA6</td>\n",
       "      <td>2.236060</td>\n",
       "      <td>-0.553760</td>\n",
       "      <td>0.930038</td>\n",
       "      <td>114.572842</td>\n",
       "    </tr>\n",
       "    <tr>\n",
       "      <th>4</th>\n",
       "      <td>WPMUX</td>\n",
       "      <td>-0.515993</td>\n",
       "      <td>1.716266</td>\n",
       "      <td>5.899011</td>\n",
       "      <td>149.600746</td>\n",
       "    </tr>\n",
       "  </tbody>\n",
       "</table>\n",
       "</div>"
      ],
      "text/plain": [
       "      id        f0        f1        f2     product\n",
       "0  fwXo0 -1.146987  0.963328 -0.828965   27.758673\n",
       "1  WJtFt  0.262778  0.269839 -2.530187   56.069697\n",
       "2  ovLUW  0.194587  0.289035 -5.586433   62.871910\n",
       "3  q6cA6  2.236060 -0.553760  0.930038  114.572842\n",
       "4  WPMUX -0.515993  1.716266  5.899011  149.600746"
      ]
     },
     "execution_count": 9,
     "metadata": {},
     "output_type": "execute_result"
    }
   ],
   "source": [
    "data_2.head()"
   ]
  },
  {
   "cell_type": "code",
   "execution_count": 10,
   "metadata": {
    "scrolled": true
   },
   "outputs": [
    {
     "name": "stdout",
     "output_type": "stream",
     "text": [
      "<class 'pandas.core.frame.DataFrame'>\n",
      "RangeIndex: 100000 entries, 0 to 99999\n",
      "Data columns (total 5 columns):\n",
      " #   Column   Non-Null Count   Dtype  \n",
      "---  ------   --------------   -----  \n",
      " 0   id       100000 non-null  object \n",
      " 1   f0       100000 non-null  float64\n",
      " 2   f1       100000 non-null  float64\n",
      " 3   f2       100000 non-null  float64\n",
      " 4   product  100000 non-null  float64\n",
      "dtypes: float64(4), object(1)\n",
      "memory usage: 3.8+ MB\n"
     ]
    }
   ],
   "source": [
    "data_2.info()"
   ]
  },
  {
   "cell_type": "code",
   "execution_count": 11,
   "metadata": {},
   "outputs": [
    {
     "data": {
      "text/html": [
       "<div>\n",
       "<style scoped>\n",
       "    .dataframe tbody tr th:only-of-type {\n",
       "        vertical-align: middle;\n",
       "    }\n",
       "\n",
       "    .dataframe tbody tr th {\n",
       "        vertical-align: top;\n",
       "    }\n",
       "\n",
       "    .dataframe thead th {\n",
       "        text-align: right;\n",
       "    }\n",
       "</style>\n",
       "<table border=\"1\" class=\"dataframe\">\n",
       "  <thead>\n",
       "    <tr style=\"text-align: right;\">\n",
       "      <th></th>\n",
       "      <th>f0</th>\n",
       "      <th>f1</th>\n",
       "      <th>f2</th>\n",
       "      <th>product</th>\n",
       "    </tr>\n",
       "  </thead>\n",
       "  <tbody>\n",
       "    <tr>\n",
       "      <th>f0</th>\n",
       "      <td>1.000000</td>\n",
       "      <td>0.000528</td>\n",
       "      <td>-0.000448</td>\n",
       "      <td>-0.001987</td>\n",
       "    </tr>\n",
       "    <tr>\n",
       "      <th>f1</th>\n",
       "      <td>0.000528</td>\n",
       "      <td>1.000000</td>\n",
       "      <td>0.000779</td>\n",
       "      <td>-0.001012</td>\n",
       "    </tr>\n",
       "    <tr>\n",
       "      <th>f2</th>\n",
       "      <td>-0.000448</td>\n",
       "      <td>0.000779</td>\n",
       "      <td>1.000000</td>\n",
       "      <td>0.445871</td>\n",
       "    </tr>\n",
       "    <tr>\n",
       "      <th>product</th>\n",
       "      <td>-0.001987</td>\n",
       "      <td>-0.001012</td>\n",
       "      <td>0.445871</td>\n",
       "      <td>1.000000</td>\n",
       "    </tr>\n",
       "  </tbody>\n",
       "</table>\n",
       "</div>"
      ],
      "text/plain": [
       "               f0        f1        f2   product\n",
       "f0       1.000000  0.000528 -0.000448 -0.001987\n",
       "f1       0.000528  1.000000  0.000779 -0.001012\n",
       "f2      -0.000448  0.000779  1.000000  0.445871\n",
       "product -0.001987 -0.001012  0.445871  1.000000"
      ]
     },
     "metadata": {},
     "output_type": "display_data"
    },
    {
     "data": {
      "text/html": [
       "<div>\n",
       "<style scoped>\n",
       "    .dataframe tbody tr th:only-of-type {\n",
       "        vertical-align: middle;\n",
       "    }\n",
       "\n",
       "    .dataframe tbody tr th {\n",
       "        vertical-align: top;\n",
       "    }\n",
       "\n",
       "    .dataframe thead th {\n",
       "        text-align: right;\n",
       "    }\n",
       "</style>\n",
       "<table border=\"1\" class=\"dataframe\">\n",
       "  <thead>\n",
       "    <tr style=\"text-align: right;\">\n",
       "      <th></th>\n",
       "      <th>f0</th>\n",
       "      <th>f1</th>\n",
       "      <th>f2</th>\n",
       "      <th>product</th>\n",
       "    </tr>\n",
       "  </thead>\n",
       "  <tbody>\n",
       "    <tr>\n",
       "      <th>count</th>\n",
       "      <td>100000.000000</td>\n",
       "      <td>100000.000000</td>\n",
       "      <td>100000.000000</td>\n",
       "      <td>100000.000000</td>\n",
       "    </tr>\n",
       "    <tr>\n",
       "      <th>mean</th>\n",
       "      <td>0.002023</td>\n",
       "      <td>-0.002081</td>\n",
       "      <td>2.495128</td>\n",
       "      <td>95.000000</td>\n",
       "    </tr>\n",
       "    <tr>\n",
       "      <th>std</th>\n",
       "      <td>1.732045</td>\n",
       "      <td>1.730417</td>\n",
       "      <td>3.473445</td>\n",
       "      <td>44.749921</td>\n",
       "    </tr>\n",
       "    <tr>\n",
       "      <th>min</th>\n",
       "      <td>-8.760004</td>\n",
       "      <td>-7.084020</td>\n",
       "      <td>-11.970335</td>\n",
       "      <td>0.000000</td>\n",
       "    </tr>\n",
       "    <tr>\n",
       "      <th>25%</th>\n",
       "      <td>-1.162288</td>\n",
       "      <td>-1.174820</td>\n",
       "      <td>0.130359</td>\n",
       "      <td>59.450441</td>\n",
       "    </tr>\n",
       "    <tr>\n",
       "      <th>50%</th>\n",
       "      <td>0.009424</td>\n",
       "      <td>-0.009482</td>\n",
       "      <td>2.484236</td>\n",
       "      <td>94.925613</td>\n",
       "    </tr>\n",
       "    <tr>\n",
       "      <th>75%</th>\n",
       "      <td>1.158535</td>\n",
       "      <td>1.163678</td>\n",
       "      <td>4.858794</td>\n",
       "      <td>130.595027</td>\n",
       "    </tr>\n",
       "    <tr>\n",
       "      <th>max</th>\n",
       "      <td>7.238262</td>\n",
       "      <td>7.844801</td>\n",
       "      <td>16.739402</td>\n",
       "      <td>190.029838</td>\n",
       "    </tr>\n",
       "  </tbody>\n",
       "</table>\n",
       "</div>"
      ],
      "text/plain": [
       "                  f0             f1             f2        product\n",
       "count  100000.000000  100000.000000  100000.000000  100000.000000\n",
       "mean        0.002023      -0.002081       2.495128      95.000000\n",
       "std         1.732045       1.730417       3.473445      44.749921\n",
       "min        -8.760004      -7.084020     -11.970335       0.000000\n",
       "25%        -1.162288      -1.174820       0.130359      59.450441\n",
       "50%         0.009424      -0.009482       2.484236      94.925613\n",
       "75%         1.158535       1.163678       4.858794     130.595027\n",
       "max         7.238262       7.844801      16.739402     190.029838"
      ]
     },
     "metadata": {},
     "output_type": "display_data"
    },
    {
     "name": "stdout",
     "output_type": "stream",
     "text": [
      "False    100000\n",
      "dtype: int64\n"
     ]
    }
   ],
   "source": [
    "display(data_2.corr())\n",
    "display(data_2.describe())\n",
    "print(data_2.duplicated().value_counts())"
   ]
  },
  {
   "cell_type": "code",
   "execution_count": 12,
   "metadata": {},
   "outputs": [
    {
     "data": {
      "image/png": "[encoded data removed]",
      "text/plain": [
       "<Figure size 864x504 with 1 Axes>"
      ]
     },
     "metadata": {
      "needs_background": "light"
     },
     "output_type": "display_data"
    }
   ],
   "source": [
    "plt.title('Графики распределения запасов сырья в регионах')\n",
    "ax=data_0['product'].plot(kind='hist',figsize=(12,7),grid=True, legend=True, alpha=0.7, histtype='step', linewidth=5, label='1 регион')\n",
    "ax1=data_1['product'].plot(kind='hist',figsize=(12,7),grid=True, legend=True, alpha=0.7,histtype='step', linewidth=5, label='2 регион', ax=ax)\n",
    "data_2['product'].plot(kind='hist',figsize=(12,7),grid=True, legend=True, alpha=0.7,histtype='step', linewidth=5, label='3 регион', ax=ax1)\n",
    "plt.xlabel('Распределение данных по запасам сырья в регионах')\n",
    "plt.ylabel('Запасы сырья, тыс.баррелей')\n",
    "plt.show()"
   ]
  },
  {
   "cell_type": "markdown",
   "metadata": {},
   "source": [
    "Данные загружены и не требуют дополнительной предобработки, а так же мы теперь имеем визуальное представление о распределении данных по запасам сырья в регионах. На графике отчётливо показана разительно отличающаяся кривая распределения запасов сырья по скважинам 2 региона. Отметим так же, что на данных по корреляции значений второго регоина, мы видим сильную зависимость целевого показателя 'profit' от f0."
   ]
  },
  {
   "cell_type": "markdown",
   "metadata": {},
   "source": [
    "## Обучение и проверка модели"
   ]
  },
  {
   "cell_type": "code",
   "execution_count": 13,
   "metadata": {},
   "outputs": [],
   "source": [
    "target_0 = data_0['product']\n",
    "features_0 = data_0.drop(['product', 'id'], axis=1)\n",
    "\n",
    "target_1 = data_1['product']\n",
    "features_1 = data_1.drop(['product', 'id'], axis=1)\n",
    "\n",
    "target_2 = data_2['product']\n",
    "features_2 = data_2.drop(['product', 'id'], axis=1)"
   ]
  },
  {
   "cell_type": "code",
   "execution_count": 14,
   "metadata": {},
   "outputs": [],
   "source": [
    "data_train_0, data_test_0 = train_test_split(data_0, test_size=0.2, random_state=12345)\n",
    "features_train_0, features_valid_0, target_train_0, target_valid_0 = train_test_split(features_0, target_0, test_size=0.25, random_state=12345)\n",
    "\n",
    "data_train_1, data_test_1 = train_test_split(data_1, test_size=0.2, random_state=12345)\n",
    "features_train_1, features_valid_1, target_train_1, target_valid_1 = train_test_split(features_1, target_1, test_size=0.25, random_state=12345)\n",
    "\n",
    "data_train_2, data_test_2 = train_test_split(data_2, test_size=0.2, random_state=12345)\n",
    "features_train_2, features_valid_2, target_train_2, target_valid_2 = train_test_split(features_2, target_2, test_size=0.25, random_state=12345)"
   ]
  },
  {
   "cell_type": "code",
   "execution_count": 15,
   "metadata": {},
   "outputs": [],
   "source": [
    "def lr(features_train, target_train, features_valid, target_valid):\n",
    "    model = LinearRegression()\n",
    "    model.fit(features_train,target_train)\n",
    "    global predict\n",
    "    predict = model.predict(features_valid)\n",
    "    rmse = mean_squared_error(target_valid, predict)**0.5\n",
    "    \n",
    "    print('Среднеквадратичная ошибка RMSE: %.2f' % rmse)\n",
    "    print('Коэффициент детерминации: %.2f' % r2_score(target_valid, predict))\n",
    "    print('Средний запас предсказанного сырья', predict.mean())"
   ]
  },
  {
   "cell_type": "code",
   "execution_count": 16,
   "metadata": {},
   "outputs": [
    {
     "name": "stdout",
     "output_type": "stream",
     "text": [
      "Среднеквадратичная ошибка RMSE: 37.58\n",
      "Коэффициент детерминации: 0.28\n",
      "Средний запас предсказанного сырья 92.59256778438035\n"
     ]
    }
   ],
   "source": [
    "lr(features_train_0, target_train_0, features_valid_0, target_valid_0)\n",
    "predict_0 = predict"
   ]
  },
  {
   "cell_type": "code",
   "execution_count": 17,
   "metadata": {},
   "outputs": [
    {
     "name": "stdout",
     "output_type": "stream",
     "text": [
      "Среднеквадратичная ошибка RMSE: 0.89\n",
      "Коэффициент детерминации: 1.00\n",
      "Средний запас предсказанного сырья 68.728546895446\n"
     ]
    }
   ],
   "source": [
    "lr(features_train_1, target_train_1, features_valid_1, target_valid_1)\n",
    "predict_1 = predict"
   ]
  },
  {
   "cell_type": "code",
   "execution_count": 18,
   "metadata": {},
   "outputs": [
    {
     "name": "stdout",
     "output_type": "stream",
     "text": [
      "Среднеквадратичная ошибка RMSE: 40.03\n",
      "Коэффициент детерминации: 0.21\n",
      "Средний запас предсказанного сырья 94.96504596800489\n"
     ]
    }
   ],
   "source": [
    "lr(features_train_2, target_train_2, features_valid_2, target_valid_2)\n",
    "predict_2 = predict"
   ]
  },
  {
   "cell_type": "markdown",
   "metadata": {},
   "source": [
    "Сохраним предсказания и правильные ответы на валидационной выборке"
   ]
  },
  {
   "cell_type": "code",
   "execution_count": 19,
   "metadata": {},
   "outputs": [
    {
     "name": "stdout",
     "output_type": "stream",
     "text": [
      "1 регион:\n",
      "- предсказания модели: \"predict_0\"\n",
      "- правильные ответы: \"target_valid_0\"\n",
      "\n",
      "2 регион:\n",
      "- предсказания модели: \"predict_1\"\n",
      "- правильные ответы: \"target_valid_1\"\n",
      "\n",
      "3 регион:\n",
      "- предсказания модели: \"predict_2\"\n",
      "- правильные ответы: \"target_valid_2\"\n"
     ]
    }
   ],
   "source": [
    "print('1 регион:\\n- предсказания модели: \"predict_0\"\\n- правильные ответы: \"target_valid_0\"')\n",
    "print()\n",
    "print('2 регион:\\n- предсказания модели: \"predict_1\"\\n- правильные ответы: \"target_valid_1\"')\n",
    "print()\n",
    "print('3 регион:\\n- предсказания модели: \"predict_2\"\\n- правильные ответы: \"target_valid_2\"')"
   ]
  },
  {
   "cell_type": "markdown",
   "metadata": {},
   "source": [
    "## Подготовка к расчёту прибыли"
   ]
  },
  {
   "cell_type": "code",
   "execution_count": 20,
   "metadata": {},
   "outputs": [
    {
     "name": "stdout",
     "output_type": "stream",
     "text": [
      "Cредний запас сырья в 1 регионе: 92.50 млн.баррелей\n",
      "Cредний запас сырья в 2 регионе: 68.83 млн.баррелей\n",
      "Cредний запас сырья в 3 регионе: 95.00 млн.баррелей\n"
     ]
    }
   ],
   "source": [
    "BUDGET = 10_000_000 #Бюджет на разработку скважин в регионе, тыс.руб\n",
    "INCOME_ONE_PROD = 450 #Доход с каждой единицы продукта, тыс.руб\n",
    "target_probability_losses = 2.5/100 # вероятность убытков\n",
    "product_mean_0 = data_0['product'].mean()\n",
    "product_mean_1 = data_1['product'].mean()\n",
    "product_mean_2 = data_2['product'].mean()\n",
    "\n",
    "print('Cредний запас сырья в 1 регионе: %.2f млн.баррелей'%product_mean_0)\n",
    "print('Cредний запас сырья в 2 регионе: %.2f млн.баррелей'%product_mean_1)\n",
    "print('Cредний запас сырья в 3 регионе: %.2f млн.баррелей'%product_mean_2)"
   ]
  },
  {
   "cell_type": "code",
   "execution_count": 21,
   "metadata": {},
   "outputs": [
    {
     "name": "stdout",
     "output_type": "stream",
     "text": [
      "Бюджет на разработку одной скважины: 50.0 млн.руб\n"
     ]
    }
   ],
   "source": [
    "budg_per_1_point = (BUDGET/200)# тыс.руб\n",
    "print('Бюджет на разработку одной скважины:', budg_per_1_point/1000,'млн.руб')"
   ]
  },
  {
   "cell_type": "markdown",
   "metadata": {},
   "source": [
    "Рассчитаем достаточный объём сырья для безубыточной разработки новой скважины"
   ]
  },
  {
   "cell_type": "code",
   "execution_count": 22,
   "metadata": {},
   "outputs": [
    {
     "name": "stdout",
     "output_type": "stream",
     "text": [
      "Объём каждой скважины для безубыточной разработки должен составлять не менее: 111.11 тыс.баррелей\n"
     ]
    }
   ],
   "source": [
    "v_prod=budg_per_1_point/INCOME_ONE_PROD\n",
    "print('Объём каждой скважины для безубыточной разработки должен составлять не менее: %.2f'%v_prod,'тыс.баррелей')"
   ]
  },
  {
   "cell_type": "markdown",
   "metadata": {},
   "source": [
    "Сравним полученный объём сырья со средним запасом в каждом регионе"
   ]
  },
  {
   "cell_type": "code",
   "execution_count": 23,
   "metadata": {},
   "outputs": [
    {
     "data": {
      "text/html": [
       "<div>\n",
       "<style scoped>\n",
       "    .dataframe tbody tr th:only-of-type {\n",
       "        vertical-align: middle;\n",
       "    }\n",
       "\n",
       "    .dataframe tbody tr th {\n",
       "        vertical-align: top;\n",
       "    }\n",
       "\n",
       "    .dataframe thead th {\n",
       "        text-align: right;\n",
       "    }\n",
       "</style>\n",
       "<table border=\"1\" class=\"dataframe\">\n",
       "  <thead>\n",
       "    <tr style=\"text-align: right;\">\n",
       "      <th></th>\n",
       "      <th>id</th>\n",
       "      <th>f0</th>\n",
       "      <th>f1</th>\n",
       "      <th>f2</th>\n",
       "      <th>product</th>\n",
       "      <th>profit</th>\n",
       "      <th>roi_%</th>\n",
       "    </tr>\n",
       "  </thead>\n",
       "  <tbody>\n",
       "    <tr>\n",
       "      <th>0</th>\n",
       "      <td>txEyH</td>\n",
       "      <td>0.705745</td>\n",
       "      <td>-0.497823</td>\n",
       "      <td>1.221170</td>\n",
       "      <td>105.280062</td>\n",
       "      <td>47376.03</td>\n",
       "      <td>-5.25</td>\n",
       "    </tr>\n",
       "    <tr>\n",
       "      <th>1</th>\n",
       "      <td>2acmU</td>\n",
       "      <td>1.334711</td>\n",
       "      <td>-0.340164</td>\n",
       "      <td>4.365080</td>\n",
       "      <td>73.037750</td>\n",
       "      <td>32866.99</td>\n",
       "      <td>-34.27</td>\n",
       "    </tr>\n",
       "    <tr>\n",
       "      <th>2</th>\n",
       "      <td>409Wp</td>\n",
       "      <td>1.022732</td>\n",
       "      <td>0.151990</td>\n",
       "      <td>1.419926</td>\n",
       "      <td>85.265647</td>\n",
       "      <td>38369.54</td>\n",
       "      <td>-23.26</td>\n",
       "    </tr>\n",
       "    <tr>\n",
       "      <th>3</th>\n",
       "      <td>iJLyR</td>\n",
       "      <td>-0.032172</td>\n",
       "      <td>0.139033</td>\n",
       "      <td>2.978566</td>\n",
       "      <td>168.620776</td>\n",
       "      <td>75879.35</td>\n",
       "      <td>51.76</td>\n",
       "    </tr>\n",
       "    <tr>\n",
       "      <th>4</th>\n",
       "      <td>Xdl7t</td>\n",
       "      <td>1.988431</td>\n",
       "      <td>0.155413</td>\n",
       "      <td>4.751769</td>\n",
       "      <td>154.036647</td>\n",
       "      <td>69316.49</td>\n",
       "      <td>38.63</td>\n",
       "    </tr>\n",
       "  </tbody>\n",
       "</table>\n",
       "</div>"
      ],
      "text/plain": [
       "      id        f0        f1        f2     product    profit  roi_%\n",
       "0  txEyH  0.705745 -0.497823  1.221170  105.280062  47376.03  -5.25\n",
       "1  2acmU  1.334711 -0.340164  4.365080   73.037750  32866.99 -34.27\n",
       "2  409Wp  1.022732  0.151990  1.419926   85.265647  38369.54 -23.26\n",
       "3  iJLyR -0.032172  0.139033  2.978566  168.620776  75879.35  51.76\n",
       "4  Xdl7t  1.988431  0.155413  4.751769  154.036647  69316.49  38.63"
      ]
     },
     "execution_count": 23,
     "metadata": {},
     "output_type": "execute_result"
    }
   ],
   "source": [
    "data_0['profit'] = (data_0['product']*(INCOME_ONE_PROD)).round(2) # profit, тыс.руб\n",
    "data_0['roi_%'] = ((data_0['profit']-budg_per_1_point)/budg_per_1_point*100).round(2)\n",
    "data_0.head()"
   ]
  },
  {
   "cell_type": "code",
   "execution_count": 24,
   "metadata": {},
   "outputs": [
    {
     "name": "stdout",
     "output_type": "stream",
     "text": [
      "Разница объёма сырья для безубыточной разработки скважины относительно среднего значения по 1 региону составляет: -16.75%\n",
      "Или 18.61 тыс.баррелей\n"
     ]
    }
   ],
   "source": [
    "print('Разница объёма сырья для безубыточной разработки скважины относительно среднего значения по 1 региону составляет: {:.2%}'.format(product_mean_0/v_prod-1))\n",
    "print('Или {:.2f} тыс.баррелей'.format(v_prod-product_mean_0))"
   ]
  },
  {
   "cell_type": "code",
   "execution_count": 25,
   "metadata": {},
   "outputs": [
    {
     "data": {
      "text/html": [
       "<div>\n",
       "<style scoped>\n",
       "    .dataframe tbody tr th:only-of-type {\n",
       "        vertical-align: middle;\n",
       "    }\n",
       "\n",
       "    .dataframe tbody tr th {\n",
       "        vertical-align: top;\n",
       "    }\n",
       "\n",
       "    .dataframe thead th {\n",
       "        text-align: right;\n",
       "    }\n",
       "</style>\n",
       "<table border=\"1\" class=\"dataframe\">\n",
       "  <thead>\n",
       "    <tr style=\"text-align: right;\">\n",
       "      <th></th>\n",
       "      <th>id</th>\n",
       "      <th>f0</th>\n",
       "      <th>f1</th>\n",
       "      <th>f2</th>\n",
       "      <th>product</th>\n",
       "      <th>profit</th>\n",
       "      <th>roi_%</th>\n",
       "    </tr>\n",
       "  </thead>\n",
       "  <tbody>\n",
       "    <tr>\n",
       "      <th>0</th>\n",
       "      <td>kBEdx</td>\n",
       "      <td>-15.001348</td>\n",
       "      <td>-8.276000</td>\n",
       "      <td>-0.005876</td>\n",
       "      <td>3.179103</td>\n",
       "      <td>1430.60</td>\n",
       "      <td>-97.14</td>\n",
       "    </tr>\n",
       "    <tr>\n",
       "      <th>1</th>\n",
       "      <td>62mP7</td>\n",
       "      <td>14.272088</td>\n",
       "      <td>-3.475083</td>\n",
       "      <td>0.999183</td>\n",
       "      <td>26.953261</td>\n",
       "      <td>12128.97</td>\n",
       "      <td>-75.74</td>\n",
       "    </tr>\n",
       "    <tr>\n",
       "      <th>2</th>\n",
       "      <td>vyE1P</td>\n",
       "      <td>6.263187</td>\n",
       "      <td>-5.948386</td>\n",
       "      <td>5.001160</td>\n",
       "      <td>134.766305</td>\n",
       "      <td>60644.84</td>\n",
       "      <td>21.29</td>\n",
       "    </tr>\n",
       "    <tr>\n",
       "      <th>3</th>\n",
       "      <td>KcrkZ</td>\n",
       "      <td>-13.081196</td>\n",
       "      <td>-11.506057</td>\n",
       "      <td>4.999415</td>\n",
       "      <td>137.945408</td>\n",
       "      <td>62075.43</td>\n",
       "      <td>24.15</td>\n",
       "    </tr>\n",
       "    <tr>\n",
       "      <th>4</th>\n",
       "      <td>AHL4O</td>\n",
       "      <td>12.702195</td>\n",
       "      <td>-8.147433</td>\n",
       "      <td>5.004363</td>\n",
       "      <td>134.766305</td>\n",
       "      <td>60644.84</td>\n",
       "      <td>21.29</td>\n",
       "    </tr>\n",
       "  </tbody>\n",
       "</table>\n",
       "</div>"
      ],
      "text/plain": [
       "      id         f0         f1        f2     product    profit  roi_%\n",
       "0  kBEdx -15.001348  -8.276000 -0.005876    3.179103   1430.60 -97.14\n",
       "1  62mP7  14.272088  -3.475083  0.999183   26.953261  12128.97 -75.74\n",
       "2  vyE1P   6.263187  -5.948386  5.001160  134.766305  60644.84  21.29\n",
       "3  KcrkZ -13.081196 -11.506057  4.999415  137.945408  62075.43  24.15\n",
       "4  AHL4O  12.702195  -8.147433  5.004363  134.766305  60644.84  21.29"
      ]
     },
     "execution_count": 25,
     "metadata": {},
     "output_type": "execute_result"
    }
   ],
   "source": [
    "data_1['profit'] = (data_1['product']*(INCOME_ONE_PROD)).round(2) # profit, тыс.руб\n",
    "data_1['roi_%'] = ((data_1['profit']-budg_per_1_point)/budg_per_1_point*100).round(2)\n",
    "data_1.head()"
   ]
  },
  {
   "cell_type": "code",
   "execution_count": 26,
   "metadata": {},
   "outputs": [
    {
     "name": "stdout",
     "output_type": "stream",
     "text": [
      "Разница объёма сырья для безубыточной разработки скважины относительно среднего значения по 1 региону составляет: -38.06%\n",
      "Или 42.29 тыс.баррелей\n"
     ]
    }
   ],
   "source": [
    "print('Разница объёма сырья для безубыточной разработки скважины относительно среднего значения по 1 региону составляет: {:.2%}'.format(product_mean_1/v_prod-1))\n",
    "print('Или {:.2f} тыс.баррелей'.format(v_prod-product_mean_1))"
   ]
  },
  {
   "cell_type": "code",
   "execution_count": 27,
   "metadata": {},
   "outputs": [
    {
     "data": {
      "text/html": [
       "<div>\n",
       "<style scoped>\n",
       "    .dataframe tbody tr th:only-of-type {\n",
       "        vertical-align: middle;\n",
       "    }\n",
       "\n",
       "    .dataframe tbody tr th {\n",
       "        vertical-align: top;\n",
       "    }\n",
       "\n",
       "    .dataframe thead th {\n",
       "        text-align: right;\n",
       "    }\n",
       "</style>\n",
       "<table border=\"1\" class=\"dataframe\">\n",
       "  <thead>\n",
       "    <tr style=\"text-align: right;\">\n",
       "      <th></th>\n",
       "      <th>id</th>\n",
       "      <th>f0</th>\n",
       "      <th>f1</th>\n",
       "      <th>f2</th>\n",
       "      <th>product</th>\n",
       "      <th>profit</th>\n",
       "      <th>roi_%</th>\n",
       "    </tr>\n",
       "  </thead>\n",
       "  <tbody>\n",
       "    <tr>\n",
       "      <th>0</th>\n",
       "      <td>fwXo0</td>\n",
       "      <td>-1.146987</td>\n",
       "      <td>0.963328</td>\n",
       "      <td>-0.828965</td>\n",
       "      <td>27.758673</td>\n",
       "      <td>12491.40</td>\n",
       "      <td>-75.02</td>\n",
       "    </tr>\n",
       "    <tr>\n",
       "      <th>1</th>\n",
       "      <td>WJtFt</td>\n",
       "      <td>0.262778</td>\n",
       "      <td>0.269839</td>\n",
       "      <td>-2.530187</td>\n",
       "      <td>56.069697</td>\n",
       "      <td>25231.36</td>\n",
       "      <td>-49.54</td>\n",
       "    </tr>\n",
       "    <tr>\n",
       "      <th>2</th>\n",
       "      <td>ovLUW</td>\n",
       "      <td>0.194587</td>\n",
       "      <td>0.289035</td>\n",
       "      <td>-5.586433</td>\n",
       "      <td>62.871910</td>\n",
       "      <td>28292.36</td>\n",
       "      <td>-43.42</td>\n",
       "    </tr>\n",
       "    <tr>\n",
       "      <th>3</th>\n",
       "      <td>q6cA6</td>\n",
       "      <td>2.236060</td>\n",
       "      <td>-0.553760</td>\n",
       "      <td>0.930038</td>\n",
       "      <td>114.572842</td>\n",
       "      <td>51557.78</td>\n",
       "      <td>3.12</td>\n",
       "    </tr>\n",
       "    <tr>\n",
       "      <th>4</th>\n",
       "      <td>WPMUX</td>\n",
       "      <td>-0.515993</td>\n",
       "      <td>1.716266</td>\n",
       "      <td>5.899011</td>\n",
       "      <td>149.600746</td>\n",
       "      <td>67320.34</td>\n",
       "      <td>34.64</td>\n",
       "    </tr>\n",
       "  </tbody>\n",
       "</table>\n",
       "</div>"
      ],
      "text/plain": [
       "      id        f0        f1        f2     product    profit  roi_%\n",
       "0  fwXo0 -1.146987  0.963328 -0.828965   27.758673  12491.40 -75.02\n",
       "1  WJtFt  0.262778  0.269839 -2.530187   56.069697  25231.36 -49.54\n",
       "2  ovLUW  0.194587  0.289035 -5.586433   62.871910  28292.36 -43.42\n",
       "3  q6cA6  2.236060 -0.553760  0.930038  114.572842  51557.78   3.12\n",
       "4  WPMUX -0.515993  1.716266  5.899011  149.600746  67320.34  34.64"
      ]
     },
     "execution_count": 27,
     "metadata": {},
     "output_type": "execute_result"
    }
   ],
   "source": [
    "data_2['profit'] = (data_2['product']*(INCOME_ONE_PROD)).round(2) # profit, тыс.руб\n",
    "data_2['roi_%'] = ((data_2['profit']-budg_per_1_point)/budg_per_1_point*100).round(2)\n",
    "data_2.head()"
   ]
  },
  {
   "cell_type": "code",
   "execution_count": 28,
   "metadata": {},
   "outputs": [
    {
     "name": "stdout",
     "output_type": "stream",
     "text": [
      "Разница объёма сырья для безубыточной разработки скважины относительно среднего значения по 1 региону составляет: -14.50%\n",
      "Или 16.11 тыс.баррелей\n"
     ]
    }
   ],
   "source": [
    "print('Разница объёма сырья для безубыточной разработки скважины относительно среднего значения по 1 региону составляет: {:.2%}'.format(product_mean_2/v_prod-1))\n",
    "print('Или {:.2f} тыс.баррелей'.format(v_prod-product_mean_2))"
   ]
  },
  {
   "cell_type": "markdown",
   "metadata": {},
   "source": [
    "Вывод\n",
    "Исходя из полученных данных становится очевидно, что среднее количество запасов сырья по регионам недостаточное даже для окупаемости разработки, требуется выбрать скважины с максимальными запасами"
   ]
  },
  {
   "cell_type": "markdown",
   "metadata": {},
   "source": [
    "Функция для расчёта прибыли по выбранным скважинам и предсказаниям модели"
   ]
  },
  {
   "cell_type": "code",
   "execution_count": 29,
   "metadata": {},
   "outputs": [],
   "source": [
    "def profit_for_vp(predict, target, count):\n",
    "    probs_sorted = pd.Series(predict, index=target.index).sort_values(ascending=False) # Выполним привязку индексов скважин к предсказаниям модели и отсорируем список по убыванию\n",
    "    selected_max = probs_sorted[:count].sum() # Просуммируем целевое значение объёма сырья, соответствующее этим предсказаниям\n",
    "    profit_pred = (selected_max * INCOME_ONE_PROD) - BUDGET # Рассчитаем прибыль для полученного объёма сырья\n",
    "    print('Суммарный запас сырья в 200 лучших скважинах составит: %.2f тыс.баррелей'%selected_max)\n",
    "    print('Прибыль для полученного объёма сырья составит %.2f млн.рублей'%(profit_pred/1000))"
   ]
  },
  {
   "cell_type": "code",
   "execution_count": 30,
   "metadata": {},
   "outputs": [
    {
     "name": "stdout",
     "output_type": "stream",
     "text": [
      "Суммарный запас сырья в 200 лучших скважинах составит: 31102.33 тыс.баррелей\n",
      "Прибыль для полученного объёма сырья составит 3996.05 млн.рублей\n"
     ]
    }
   ],
   "source": [
    "profit_for_vp(predict_0, target_valid_0, 200)"
   ]
  },
  {
   "cell_type": "code",
   "execution_count": 31,
   "metadata": {},
   "outputs": [
    {
     "name": "stdout",
     "output_type": "stream",
     "text": [
      "Суммарный запас сырья в 200 лучших скважинах составит: 27746.03 тыс.баррелей\n",
      "Прибыль для полученного объёма сырья составит 2485.71 млн.рублей\n"
     ]
    }
   ],
   "source": [
    "profit_for_vp(predict_1, target_valid_1, 200)"
   ]
  },
  {
   "cell_type": "code",
   "execution_count": 32,
   "metadata": {},
   "outputs": [
    {
     "name": "stdout",
     "output_type": "stream",
     "text": [
      "Суммарный запас сырья в 200 лучших скважинах составит: 29603.90 тыс.баррелей\n",
      "Прибыль для полученного объёма сырья составит 3321.75 млн.рублей\n"
     ]
    }
   ],
   "source": [
    "profit_for_vp(predict_2, target_valid_2, 200)"
   ]
  },
  {
   "cell_type": "markdown",
   "metadata": {},
   "source": [
    "Вывод\n",
    "Отлично, все три региона потенциально прибыльные, для определения наиболее выгодного с точки зрения окупаемости вложений и рисков убытка проведём расчёт вероятности."
   ]
  },
  {
   "cell_type": "markdown",
   "metadata": {},
   "source": [
    "## Расчёт прибыли и рисков "
   ]
  },
  {
   "cell_type": "code",
   "execution_count": 33,
   "metadata": {},
   "outputs": [],
   "source": [
    "def profit_for_vp2(predict, target, count):\n",
    "    probs_sorted = pd.Series(predict).sort_values(ascending=False)\n",
    "    selected_points = target[probs_sorted.index][:count]\n",
    "    product = selected_points.sum()\n",
    "    revenue = product * INCOME_ONE_PROD\n",
    "    return revenue - BUDGET"
   ]
  },
  {
   "cell_type": "code",
   "execution_count": 34,
   "metadata": {},
   "outputs": [],
   "source": [
    "def bootstap_1000(target, predict):\n",
    "    values = []\n",
    "    count = 0\n",
    "    state = np.random.RandomState(12345)\n",
    "    predict_e = pd.Series(predict, index=target.index)\n",
    "    \n",
    "    for i in range(1000):\n",
    "        target_subsample = target.sample(n=500, replace=True, random_state=state)\n",
    "  \n",
    "        probs_subsample = predict_e[target_subsample.index]\n",
    "        values.append(profit_for_vp2(probs_subsample, target_subsample, 200))  \n",
    "    \n",
    "    for i in values:\n",
    "        if i < 0:\n",
    "            count +=1\n",
    "            \n",
    "    values = pd.Series(values)\n",
    "    mean = values.mean()\n",
    "    confidence_interval = st.t.interval(0.95, len(values)-1, values.mean(), values.sem())\n",
    "    \n",
    "    plt.title('Распределение прибыли')\n",
    "    values.plot(kind = \"hist\", grid = True, figsize = (8,5))\n",
    "    plt.xlabel('Прибыль, тыс.руб')\n",
    "    plt.ylabel('Количество')\n",
    "    plt.show()\n",
    "    \n",
    "    low_95 = values.quantile(0.025)\n",
    "    high_95 = values.quantile(0.975)\n",
    "    \n",
    "    print(\"Средняя прибыль: {:.2f} млн.руб\".format(mean/1000))\n",
    "    print('С вероятностью 95% прибыль в данном регионе будет составлять от: {:.2f} млн.руб до: {:.2f} млн.руб'.format((low_95/1000),(high_95/1000)))\n",
    "    print(\"95%-ый доверительный интервал: от {:.2f} млн.руб до {:.2f} млн.руб\". format((confidence_interval[0]/1000),(confidence_interval[1]/1000)))\n",
    "    print ('Процент вероятности убытка в данном регионе составит {:.1%}'.format(count/1000))"
   ]
  },
  {
   "cell_type": "code",
   "execution_count": 35,
   "metadata": {},
   "outputs": [
    {
     "data": {
      "image/png": "[encoded data removed]",
      "text/plain": [
       "<Figure size 576x360 with 1 Axes>"
      ]
     },
     "metadata": {
      "needs_background": "light"
     },
     "output_type": "display_data"
    },
    {
     "name": "stdout",
     "output_type": "stream",
     "text": [
      "Средняя прибыль: 425.94 млн.руб\n",
      "С вероятностью 95% прибыль в данном регионе будет составлять от: -102.09 млн.руб до: 947.98 млн.руб\n",
      "95%-ый доверительный интервал: от 408.73 млн.руб до 443.14 млн.руб\n",
      "Процент вероятности убытка в данном регионе составит 6.0%\n"
     ]
    }
   ],
   "source": [
    "bootstap_1000(target_valid_0, predict_0)"
   ]
  },
  {
   "cell_type": "code",
   "execution_count": 36,
   "metadata": {},
   "outputs": [
    {
     "data": {
      "image/png": "[encoded data removed]",
      "text/plain": [
       "<Figure size 576x360 with 1 Axes>"
      ]
     },
     "metadata": {
      "needs_background": "light"
     },
     "output_type": "display_data"
    },
    {
     "name": "stdout",
     "output_type": "stream",
     "text": [
      "Средняя прибыль: 515.22 млн.руб\n",
      "С вероятностью 95% прибыль в данном регионе будет составлять от: 68.87 млн.руб до: 931.55 млн.руб\n",
      "95%-ый доверительный интервал: от 501.62 млн.руб до 528.82 млн.руб\n",
      "Процент вероятности убытка в данном регионе составит 1.0%\n"
     ]
    }
   ],
   "source": [
    "bootstap_1000(target_valid_1, predict_1)"
   ]
  },
  {
   "cell_type": "code",
   "execution_count": 37,
   "metadata": {},
   "outputs": [
    {
     "data": {
      "image/png": "[encoded data removed]",
      "text/plain": [
       "<Figure size 576x360 with 1 Axes>"
      ]
     },
     "metadata": {
      "needs_background": "light"
     },
     "output_type": "display_data"
    },
    {
     "name": "stdout",
     "output_type": "stream",
     "text": [
      "Средняя прибыль: 435.01 млн.руб\n",
      "С вероятностью 95% прибыль в данном регионе будет составлять от: -128.88 млн.руб до: 969.71 млн.руб\n",
      "95%-ый доверительный интервал: от 417.45 млн.руб до 452.56 млн.руб\n",
      "Процент вероятности убытка в данном регионе составит 6.4%\n"
     ]
    }
   ],
   "source": [
    "bootstap_1000(target_valid_2, predict_2)"
   ]
  },
  {
   "cell_type": "code",
   "execution_count": 38,
   "metadata": {
    "scrolled": true
   },
   "outputs": [
    {
     "data": {
      "text/html": [
       "<div>\n",
       "<style scoped>\n",
       "    .dataframe tbody tr th:only-of-type {\n",
       "        vertical-align: middle;\n",
       "    }\n",
       "\n",
       "    .dataframe tbody tr th {\n",
       "        vertical-align: top;\n",
       "    }\n",
       "\n",
       "    .dataframe thead th {\n",
       "        text-align: right;\n",
       "    }\n",
       "</style>\n",
       "<table border=\"1\" class=\"dataframe\">\n",
       "  <thead>\n",
       "    <tr style=\"text-align: right;\">\n",
       "      <th></th>\n",
       "      <th>1 регион</th>\n",
       "      <th>2 регион</th>\n",
       "      <th>3 регион</th>\n",
       "    </tr>\n",
       "  </thead>\n",
       "  <tbody>\n",
       "    <tr>\n",
       "      <th>Средняя прибыль в регионе, млн.руб</th>\n",
       "      <td>425.94</td>\n",
       "      <td>515.22</td>\n",
       "      <td>435.01</td>\n",
       "    </tr>\n",
       "    <tr>\n",
       "      <th>Суммарный запас сырья, тыс.баррелей</th>\n",
       "      <td>31102.33</td>\n",
       "      <td>27746.03</td>\n",
       "      <td>3321.75</td>\n",
       "    </tr>\n",
       "    <tr>\n",
       "      <th>Вероятность убытка, %</th>\n",
       "      <td>6</td>\n",
       "      <td>1</td>\n",
       "      <td>6.4</td>\n",
       "    </tr>\n",
       "  </tbody>\n",
       "</table>\n",
       "</div>"
      ],
      "text/plain": [
       "                                     1 регион  2 регион 3 регион\n",
       "Средняя прибыль в регионе, млн.руб     425.94    515.22   435.01\n",
       "Суммарный запас сырья, тыс.баррелей  31102.33  27746.03  3321.75\n",
       "Вероятность убытка, %                       6         1      6.4"
      ]
     },
     "execution_count": 38,
     "metadata": {},
     "output_type": "execute_result"
    }
   ],
   "source": [
    "comparison_tabl = pd.DataFrame(index = ['Средняя прибыль в регионе, млн.руб','Суммарный запас сырья, тыс.баррелей','Вероятность убытка, %'], columns=['1 регион','2 регион','3 регион'])\n",
    "comparison_tabl['1 регион'] = '425.94', '31102.33','6'\n",
    "comparison_tabl['2 регион'] = '515.22', '27746.03','1'\n",
    "comparison_tabl['3 регион'] = '435.01', '3321.75','6.4'\n",
    "comparison_tabl"
   ]
  },
  {
   "cell_type": "markdown",
   "metadata": {},
   "source": [
    "Вывод\n",
    "Согласно распределению среднего значения прибыли с региона, самым прибыльным оказался 2 регион, средняя прибыль в этом регионе составит 515.22 млн.рублей. Два других региона не прошли отбор по минимально допустимому порогу убытка в 2,5%. Таким образом не смотря на сравнительно меньшие запасы сырья, по сравнению с другими регионами, средняя доходность со скважин во втором регионе прогнозируется выше других."
   ]
  }
 ],
 "metadata": {
  "ExecuteTimeLog": [
   {
    "duration": 1055,
    "start_time": "2023-03-19T00:54:38.846Z"
   },
   {
    "duration": 698,
    "start_time": "2023-03-19T00:54:39.904Z"
   },
   {
    "duration": 15,
    "start_time": "2023-03-19T00:54:40.604Z"
   },
   {
    "duration": 13,
    "start_time": "2023-03-19T00:54:40.621Z"
   },
   {
    "duration": 12,
    "start_time": "2023-03-19T00:54:40.636Z"
   },
   {
    "duration": 13,
    "start_time": "2023-03-19T00:54:40.649Z"
   },
   {
    "duration": 66,
    "start_time": "2023-03-19T00:54:40.664Z"
   },
   {
    "duration": 0,
    "start_time": "2023-03-19T00:54:40.732Z"
   },
   {
    "duration": 0,
    "start_time": "2023-03-19T00:54:40.734Z"
   },
   {
    "duration": 0,
    "start_time": "2023-03-19T00:54:40.735Z"
   },
   {
    "duration": 0,
    "start_time": "2023-03-19T00:54:40.736Z"
   },
   {
    "duration": 0,
    "start_time": "2023-03-19T00:54:40.737Z"
   },
   {
    "duration": 0,
    "start_time": "2023-03-19T00:54:40.738Z"
   },
   {
    "duration": 0,
    "start_time": "2023-03-19T00:54:40.740Z"
   },
   {
    "duration": 0,
    "start_time": "2023-03-19T00:54:40.741Z"
   },
   {
    "duration": 0,
    "start_time": "2023-03-19T00:54:40.742Z"
   },
   {
    "duration": 0,
    "start_time": "2023-03-19T00:54:40.743Z"
   },
   {
    "duration": 0,
    "start_time": "2023-03-19T00:54:40.745Z"
   },
   {
    "duration": 0,
    "start_time": "2023-03-19T00:54:40.746Z"
   },
   {
    "duration": 0,
    "start_time": "2023-03-19T00:54:40.747Z"
   },
   {
    "duration": 0,
    "start_time": "2023-03-19T00:54:40.749Z"
   },
   {
    "duration": 0,
    "start_time": "2023-03-19T00:54:40.750Z"
   },
   {
    "duration": 0,
    "start_time": "2023-03-19T00:54:40.752Z"
   },
   {
    "duration": 70,
    "start_time": "2023-03-19T00:55:16.950Z"
   },
   {
    "duration": 1033,
    "start_time": "2023-03-19T00:55:42.209Z"
   },
   {
    "duration": 393,
    "start_time": "2023-03-19T00:55:43.244Z"
   },
   {
    "duration": 14,
    "start_time": "2023-03-19T00:55:43.639Z"
   },
   {
    "duration": 12,
    "start_time": "2023-03-19T00:55:43.654Z"
   },
   {
    "duration": 34,
    "start_time": "2023-03-19T00:55:43.667Z"
   },
   {
    "duration": 22,
    "start_time": "2023-03-19T00:55:43.703Z"
   },
   {
    "duration": 76,
    "start_time": "2023-03-19T00:55:43.727Z"
   },
   {
    "duration": 129,
    "start_time": "2023-03-19T00:55:43.805Z"
   },
   {
    "duration": 0,
    "start_time": "2023-03-19T00:55:43.936Z"
   },
   {
    "duration": 0,
    "start_time": "2023-03-19T00:55:43.937Z"
   },
   {
    "duration": 0,
    "start_time": "2023-03-19T00:55:43.938Z"
   },
   {
    "duration": 0,
    "start_time": "2023-03-19T00:55:43.938Z"
   },
   {
    "duration": 0,
    "start_time": "2023-03-19T00:55:43.939Z"
   },
   {
    "duration": 0,
    "start_time": "2023-03-19T00:55:43.940Z"
   },
   {
    "duration": 0,
    "start_time": "2023-03-19T00:55:43.941Z"
   },
   {
    "duration": 0,
    "start_time": "2023-03-19T00:55:43.942Z"
   },
   {
    "duration": 0,
    "start_time": "2023-03-19T00:55:43.943Z"
   },
   {
    "duration": 0,
    "start_time": "2023-03-19T00:55:43.944Z"
   },
   {
    "duration": 0,
    "start_time": "2023-03-19T00:55:43.945Z"
   },
   {
    "duration": 0,
    "start_time": "2023-03-19T00:55:43.946Z"
   },
   {
    "duration": 0,
    "start_time": "2023-03-19T00:55:43.947Z"
   },
   {
    "duration": 0,
    "start_time": "2023-03-19T00:55:43.948Z"
   },
   {
    "duration": 0,
    "start_time": "2023-03-19T00:55:43.949Z"
   },
   {
    "duration": 32,
    "start_time": "2023-03-19T00:58:24.302Z"
   },
   {
    "duration": 372,
    "start_time": "2023-03-19T00:58:50.877Z"
   },
   {
    "duration": 1070,
    "start_time": "2023-03-19T00:59:39.917Z"
   },
   {
    "duration": 407,
    "start_time": "2023-03-19T00:59:40.990Z"
   },
   {
    "duration": 17,
    "start_time": "2023-03-19T00:59:41.399Z"
   },
   {
    "duration": 16,
    "start_time": "2023-03-19T00:59:41.419Z"
   },
   {
    "duration": 8,
    "start_time": "2023-03-19T00:59:41.436Z"
   },
   {
    "duration": 22,
    "start_time": "2023-03-19T00:59:41.446Z"
   },
   {
    "duration": 7,
    "start_time": "2023-03-19T00:59:41.469Z"
   },
   {
    "duration": 32,
    "start_time": "2023-03-19T00:59:41.485Z"
   },
   {
    "duration": 12,
    "start_time": "2023-03-19T00:59:41.519Z"
   },
   {
    "duration": 81,
    "start_time": "2023-03-19T00:59:41.534Z"
   },
   {
    "duration": 149,
    "start_time": "2023-03-19T00:59:41.616Z"
   },
   {
    "duration": 0,
    "start_time": "2023-03-19T00:59:41.766Z"
   },
   {
    "duration": 0,
    "start_time": "2023-03-19T00:59:41.767Z"
   },
   {
    "duration": 0,
    "start_time": "2023-03-19T00:59:41.768Z"
   },
   {
    "duration": 0,
    "start_time": "2023-03-19T00:59:41.770Z"
   },
   {
    "duration": 0,
    "start_time": "2023-03-19T00:59:41.785Z"
   },
   {
    "duration": 0,
    "start_time": "2023-03-19T00:59:41.789Z"
   },
   {
    "duration": 0,
    "start_time": "2023-03-19T00:59:41.797Z"
   },
   {
    "duration": 0,
    "start_time": "2023-03-19T00:59:41.799Z"
   },
   {
    "duration": 0,
    "start_time": "2023-03-19T00:59:41.809Z"
   },
   {
    "duration": 0,
    "start_time": "2023-03-19T00:59:41.812Z"
   },
   {
    "duration": 0,
    "start_time": "2023-03-19T00:59:41.813Z"
   },
   {
    "duration": 0,
    "start_time": "2023-03-19T00:59:41.815Z"
   },
   {
    "duration": 0,
    "start_time": "2023-03-19T00:59:41.815Z"
   },
   {
    "duration": 0,
    "start_time": "2023-03-19T00:59:41.816Z"
   },
   {
    "duration": 0,
    "start_time": "2023-03-19T00:59:41.817Z"
   },
   {
    "duration": 31,
    "start_time": "2023-03-19T01:02:30.404Z"
   },
   {
    "duration": 43,
    "start_time": "2023-03-19T01:02:34.956Z"
   },
   {
    "duration": 1023,
    "start_time": "2023-03-19T01:07:54.410Z"
   },
   {
    "duration": 321,
    "start_time": "2023-03-19T01:07:55.434Z"
   },
   {
    "duration": 14,
    "start_time": "2023-03-19T01:07:55.756Z"
   },
   {
    "duration": 19,
    "start_time": "2023-03-19T01:07:55.771Z"
   },
   {
    "duration": 12,
    "start_time": "2023-03-19T01:07:55.793Z"
   },
   {
    "duration": 16,
    "start_time": "2023-03-19T01:07:55.806Z"
   },
   {
    "duration": 10,
    "start_time": "2023-03-19T01:07:55.824Z"
   },
   {
    "duration": 16,
    "start_time": "2023-03-19T01:07:55.836Z"
   },
   {
    "duration": 45,
    "start_time": "2023-03-19T01:07:55.853Z"
   },
   {
    "duration": 0,
    "start_time": "2023-03-19T01:07:55.901Z"
   },
   {
    "duration": 0,
    "start_time": "2023-03-19T01:07:55.902Z"
   },
   {
    "duration": 0,
    "start_time": "2023-03-19T01:07:55.903Z"
   },
   {
    "duration": 0,
    "start_time": "2023-03-19T01:07:55.905Z"
   },
   {
    "duration": 0,
    "start_time": "2023-03-19T01:07:55.906Z"
   },
   {
    "duration": 0,
    "start_time": "2023-03-19T01:07:55.907Z"
   },
   {
    "duration": 0,
    "start_time": "2023-03-19T01:07:55.907Z"
   },
   {
    "duration": 0,
    "start_time": "2023-03-19T01:07:55.909Z"
   },
   {
    "duration": 0,
    "start_time": "2023-03-19T01:07:55.910Z"
   },
   {
    "duration": 0,
    "start_time": "2023-03-19T01:07:55.910Z"
   },
   {
    "duration": 0,
    "start_time": "2023-03-19T01:07:55.911Z"
   },
   {
    "duration": 0,
    "start_time": "2023-03-19T01:07:55.912Z"
   },
   {
    "duration": 0,
    "start_time": "2023-03-19T01:07:55.913Z"
   },
   {
    "duration": 0,
    "start_time": "2023-03-19T01:07:55.914Z"
   },
   {
    "duration": 0,
    "start_time": "2023-03-19T01:07:55.914Z"
   },
   {
    "duration": 0,
    "start_time": "2023-03-19T01:07:55.915Z"
   },
   {
    "duration": 0,
    "start_time": "2023-03-19T01:07:55.916Z"
   },
   {
    "duration": 9,
    "start_time": "2023-03-19T01:08:09.779Z"
   },
   {
    "duration": 58,
    "start_time": "2023-03-19T01:08:11.154Z"
   },
   {
    "duration": 21,
    "start_time": "2023-03-19T01:08:12.253Z"
   },
   {
    "duration": 19,
    "start_time": "2023-03-19T01:08:49.168Z"
   },
   {
    "duration": 20,
    "start_time": "2023-03-19T01:08:51.388Z"
   },
   {
    "duration": 19,
    "start_time": "2023-03-19T01:08:53.185Z"
   },
   {
    "duration": 3,
    "start_time": "2023-03-19T01:09:50.366Z"
   },
   {
    "duration": 6,
    "start_time": "2023-03-19T01:11:05.046Z"
   },
   {
    "duration": 13,
    "start_time": "2023-03-19T01:11:16.496Z"
   },
   {
    "duration": 3,
    "start_time": "2023-03-19T01:11:21.635Z"
   },
   {
    "duration": 4,
    "start_time": "2023-03-19T01:11:54.813Z"
   },
   {
    "duration": 23,
    "start_time": "2023-03-19T01:12:20.136Z"
   },
   {
    "duration": 3,
    "start_time": "2023-03-19T01:12:27.529Z"
   },
   {
    "duration": 13,
    "start_time": "2023-03-19T01:12:29.962Z"
   },
   {
    "duration": 3,
    "start_time": "2023-03-19T01:12:30.670Z"
   },
   {
    "duration": 15,
    "start_time": "2023-03-19T01:12:38.950Z"
   },
   {
    "duration": 3,
    "start_time": "2023-03-19T01:12:40.621Z"
   },
   {
    "duration": 4,
    "start_time": "2023-03-19T01:12:54.278Z"
   },
   {
    "duration": 7,
    "start_time": "2023-03-19T01:12:55.289Z"
   },
   {
    "duration": 6,
    "start_time": "2023-03-19T01:12:59.552Z"
   },
   {
    "duration": 6,
    "start_time": "2023-03-19T01:13:00.020Z"
   },
   {
    "duration": 56,
    "start_time": "2023-03-19T01:14:08.308Z"
   },
   {
    "duration": 5,
    "start_time": "2023-03-19T01:15:29.278Z"
   },
   {
    "duration": 6,
    "start_time": "2023-03-19T01:15:59.474Z"
   },
   {
    "duration": 6,
    "start_time": "2023-03-19T01:15:59.907Z"
   },
   {
    "duration": 9,
    "start_time": "2023-03-19T01:16:00.289Z"
   },
   {
    "duration": 56,
    "start_time": "2023-03-19T01:16:33.958Z"
   },
   {
    "duration": 5,
    "start_time": "2023-03-19T01:22:56.909Z"
   },
   {
    "duration": 120,
    "start_time": "2023-03-19T01:23:11.028Z"
   },
   {
    "duration": 5,
    "start_time": "2023-03-19T01:23:48.506Z"
   },
   {
    "duration": 13,
    "start_time": "2023-03-19T01:23:49.378Z"
   },
   {
    "duration": 988,
    "start_time": "2023-03-19T01:24:18.145Z"
   },
   {
    "duration": 332,
    "start_time": "2023-03-19T01:24:19.134Z"
   },
   {
    "duration": 15,
    "start_time": "2023-03-19T01:24:19.467Z"
   },
   {
    "duration": 26,
    "start_time": "2023-03-19T01:24:19.483Z"
   },
   {
    "duration": 8,
    "start_time": "2023-03-19T01:24:19.511Z"
   },
   {
    "duration": 12,
    "start_time": "2023-03-19T01:24:19.520Z"
   },
   {
    "duration": 7,
    "start_time": "2023-03-19T01:24:19.534Z"
   },
   {
    "duration": 12,
    "start_time": "2023-03-19T01:24:19.542Z"
   },
   {
    "duration": 26,
    "start_time": "2023-03-19T01:24:19.555Z"
   },
   {
    "duration": 66,
    "start_time": "2023-03-19T01:24:19.583Z"
   },
   {
    "duration": 130,
    "start_time": "2023-03-19T01:24:19.650Z"
   },
   {
    "duration": 20,
    "start_time": "2023-03-19T01:24:19.781Z"
   },
   {
    "duration": 202,
    "start_time": "2023-03-19T01:24:19.802Z"
   },
   {
    "duration": 88,
    "start_time": "2023-03-19T01:24:20.007Z"
   },
   {
    "duration": 99,
    "start_time": "2023-03-19T01:24:20.096Z"
   },
   {
    "duration": 8,
    "start_time": "2023-03-19T01:24:20.199Z"
   },
   {
    "duration": 20,
    "start_time": "2023-03-19T01:24:20.209Z"
   },
   {
    "duration": 7,
    "start_time": "2023-03-19T01:24:20.230Z"
   },
   {
    "duration": 15,
    "start_time": "2023-03-19T01:24:20.238Z"
   },
   {
    "duration": 23,
    "start_time": "2023-03-19T01:24:20.254Z"
   },
   {
    "duration": 29,
    "start_time": "2023-03-19T01:24:20.278Z"
   },
   {
    "duration": 3,
    "start_time": "2023-03-19T01:24:20.308Z"
   },
   {
    "duration": 35,
    "start_time": "2023-03-19T01:24:20.312Z"
   },
   {
    "duration": 11,
    "start_time": "2023-03-19T01:24:20.348Z"
   },
   {
    "duration": 6,
    "start_time": "2023-03-19T01:24:20.360Z"
   },
   {
    "duration": 11,
    "start_time": "2023-03-19T01:24:20.367Z"
   },
   {
    "duration": 18,
    "start_time": "2023-03-19T01:24:20.379Z"
   },
   {
    "duration": 9,
    "start_time": "2023-03-19T01:24:20.398Z"
   },
   {
    "duration": 5,
    "start_time": "2023-03-19T01:24:20.409Z"
   },
   {
    "duration": 116,
    "start_time": "2023-03-19T01:24:20.415Z"
   },
   {
    "duration": 1426,
    "start_time": "2023-03-19T01:24:45.305Z"
   },
   {
    "duration": 319,
    "start_time": "2023-03-19T01:24:46.733Z"
   },
   {
    "duration": 12,
    "start_time": "2023-03-19T01:24:47.054Z"
   },
   {
    "duration": 27,
    "start_time": "2023-03-19T01:24:47.068Z"
   },
   {
    "duration": 13,
    "start_time": "2023-03-19T01:24:47.097Z"
   },
   {
    "duration": 13,
    "start_time": "2023-03-19T01:24:47.111Z"
   },
   {
    "duration": 6,
    "start_time": "2023-03-19T01:24:47.126Z"
   },
   {
    "duration": 14,
    "start_time": "2023-03-19T01:24:47.134Z"
   },
   {
    "duration": 8,
    "start_time": "2023-03-19T01:24:47.150Z"
   },
   {
    "duration": 58,
    "start_time": "2023-03-19T01:24:47.179Z"
   },
   {
    "duration": 148,
    "start_time": "2023-03-19T01:24:47.239Z"
   },
   {
    "duration": 93,
    "start_time": "2023-03-19T01:24:47.394Z"
   },
   {
    "duration": 210,
    "start_time": "2023-03-19T01:24:47.489Z"
   },
   {
    "duration": 4,
    "start_time": "2023-03-19T01:24:47.701Z"
   },
   {
    "duration": 107,
    "start_time": "2023-03-19T01:24:47.781Z"
   },
   {
    "duration": 8,
    "start_time": "2023-03-19T01:24:47.890Z"
   },
   {
    "duration": 18,
    "start_time": "2023-03-19T01:24:47.900Z"
   },
   {
    "duration": 3,
    "start_time": "2023-03-19T01:24:47.919Z"
   },
   {
    "duration": 18,
    "start_time": "2023-03-19T01:24:47.923Z"
   },
   {
    "duration": 3,
    "start_time": "2023-03-19T01:24:47.942Z"
   },
   {
    "duration": 15,
    "start_time": "2023-03-19T01:24:47.946Z"
   },
   {
    "duration": 21,
    "start_time": "2023-03-19T01:24:47.962Z"
   },
   {
    "duration": 16,
    "start_time": "2023-03-19T01:24:47.985Z"
   },
   {
    "duration": 3,
    "start_time": "2023-03-19T01:24:48.003Z"
   },
   {
    "duration": 5,
    "start_time": "2023-03-19T01:24:48.008Z"
   },
   {
    "duration": 10,
    "start_time": "2023-03-19T01:24:48.015Z"
   },
   {
    "duration": 6,
    "start_time": "2023-03-19T01:24:48.026Z"
   },
   {
    "duration": 6,
    "start_time": "2023-03-19T01:24:48.035Z"
   },
   {
    "duration": 37,
    "start_time": "2023-03-19T01:24:48.043Z"
   },
   {
    "duration": 143,
    "start_time": "2023-03-19T01:24:48.081Z"
   },
   {
    "duration": 1224,
    "start_time": "2023-03-19T01:26:03.326Z"
   },
   {
    "duration": 324,
    "start_time": "2023-03-19T01:26:04.552Z"
   },
   {
    "duration": 14,
    "start_time": "2023-03-19T01:26:04.878Z"
   },
   {
    "duration": 18,
    "start_time": "2023-03-19T01:26:04.894Z"
   },
   {
    "duration": 7,
    "start_time": "2023-03-19T01:26:04.914Z"
   },
   {
    "duration": 15,
    "start_time": "2023-03-19T01:26:04.922Z"
   },
   {
    "duration": 7,
    "start_time": "2023-03-19T01:26:04.939Z"
   },
   {
    "duration": 49,
    "start_time": "2023-03-19T01:26:04.947Z"
   },
   {
    "duration": 9,
    "start_time": "2023-03-19T01:26:04.998Z"
   },
   {
    "duration": 80,
    "start_time": "2023-03-19T01:26:05.010Z"
   },
   {
    "duration": 96,
    "start_time": "2023-03-19T01:26:05.093Z"
   },
   {
    "duration": 103,
    "start_time": "2023-03-19T01:26:05.191Z"
   },
   {
    "duration": 101,
    "start_time": "2023-03-19T01:26:05.296Z"
   },
   {
    "duration": 103,
    "start_time": "2023-03-19T01:26:05.479Z"
   },
   {
    "duration": 13,
    "start_time": "2023-03-19T01:26:05.585Z"
   },
   {
    "duration": 3,
    "start_time": "2023-03-19T01:26:05.600Z"
   },
   {
    "duration": 10,
    "start_time": "2023-03-19T01:26:05.605Z"
   },
   {
    "duration": 4,
    "start_time": "2023-03-19T01:26:05.616Z"
   },
   {
    "duration": 15,
    "start_time": "2023-03-19T01:26:05.621Z"
   },
   {
    "duration": 2,
    "start_time": "2023-03-19T01:26:05.638Z"
   },
   {
    "duration": 44,
    "start_time": "2023-03-19T01:26:05.641Z"
   },
   {
    "duration": 5,
    "start_time": "2023-03-19T01:26:05.687Z"
   },
   {
    "duration": 25,
    "start_time": "2023-03-19T01:26:05.693Z"
   },
   {
    "duration": 3,
    "start_time": "2023-03-19T01:26:05.719Z"
   },
   {
    "duration": 11,
    "start_time": "2023-03-19T01:26:05.723Z"
   },
   {
    "duration": 13,
    "start_time": "2023-03-19T01:26:05.736Z"
   },
   {
    "duration": 8,
    "start_time": "2023-03-19T01:26:05.751Z"
   },
   {
    "duration": 5,
    "start_time": "2023-03-19T01:26:05.762Z"
   },
   {
    "duration": 19,
    "start_time": "2023-03-19T01:26:05.768Z"
   },
   {
    "duration": 152,
    "start_time": "2023-03-19T01:26:05.789Z"
   },
   {
    "duration": 1247,
    "start_time": "2023-03-19T01:26:49.593Z"
   },
   {
    "duration": 365,
    "start_time": "2023-03-19T01:26:50.842Z"
   },
   {
    "duration": 11,
    "start_time": "2023-03-19T01:26:51.209Z"
   },
   {
    "duration": 11,
    "start_time": "2023-03-19T01:26:51.222Z"
   },
   {
    "duration": 7,
    "start_time": "2023-03-19T01:26:51.235Z"
   },
   {
    "duration": 15,
    "start_time": "2023-03-19T01:26:51.243Z"
   },
   {
    "duration": 21,
    "start_time": "2023-03-19T01:26:51.259Z"
   },
   {
    "duration": 17,
    "start_time": "2023-03-19T01:26:51.282Z"
   },
   {
    "duration": 11,
    "start_time": "2023-03-19T01:26:51.301Z"
   },
   {
    "duration": 81,
    "start_time": "2023-03-19T01:26:51.315Z"
   },
   {
    "duration": 17,
    "start_time": "2023-03-19T01:26:51.398Z"
   },
   {
    "duration": 172,
    "start_time": "2023-03-19T01:26:51.416Z"
   },
   {
    "duration": 214,
    "start_time": "2023-03-19T01:26:51.590Z"
   },
   {
    "duration": 73,
    "start_time": "2023-03-19T01:26:51.810Z"
   },
   {
    "duration": 103,
    "start_time": "2023-03-19T01:26:51.887Z"
   },
   {
    "duration": 8,
    "start_time": "2023-03-19T01:26:51.993Z"
   },
   {
    "duration": 12,
    "start_time": "2023-03-19T01:26:52.002Z"
   },
   {
    "duration": 12,
    "start_time": "2023-03-19T01:26:52.015Z"
   },
   {
    "duration": 15,
    "start_time": "2023-03-19T01:26:52.029Z"
   },
   {
    "duration": 3,
    "start_time": "2023-03-19T01:26:52.045Z"
   },
   {
    "duration": 16,
    "start_time": "2023-03-19T01:26:52.050Z"
   },
   {
    "duration": 19,
    "start_time": "2023-03-19T01:26:52.067Z"
   },
   {
    "duration": 15,
    "start_time": "2023-03-19T01:26:52.087Z"
   },
   {
    "duration": 3,
    "start_time": "2023-03-19T01:26:52.103Z"
   },
   {
    "duration": 10,
    "start_time": "2023-03-19T01:26:52.108Z"
   },
   {
    "duration": 11,
    "start_time": "2023-03-19T01:26:52.119Z"
   },
   {
    "duration": 18,
    "start_time": "2023-03-19T01:26:52.131Z"
   },
   {
    "duration": 9,
    "start_time": "2023-03-19T01:26:52.152Z"
   },
   {
    "duration": 7,
    "start_time": "2023-03-19T01:26:52.162Z"
   },
   {
    "duration": 150,
    "start_time": "2023-03-19T01:26:52.170Z"
   },
   {
    "duration": 10,
    "start_time": "2023-03-19T01:27:08.083Z"
   },
   {
    "duration": 1327,
    "start_time": "2023-03-19T01:27:09.590Z"
   },
   {
    "duration": 4,
    "start_time": "2023-03-19T01:28:43.965Z"
   },
   {
    "duration": 10,
    "start_time": "2023-03-19T01:28:45.383Z"
   },
   {
    "duration": 1159,
    "start_time": "2023-03-19T01:28:46.274Z"
   },
   {
    "duration": 1356,
    "start_time": "2023-03-19T01:29:00.759Z"
   },
   {
    "duration": 354,
    "start_time": "2023-03-19T01:29:02.117Z"
   },
   {
    "duration": 18,
    "start_time": "2023-03-19T01:29:02.472Z"
   },
   {
    "duration": 30,
    "start_time": "2023-03-19T01:29:02.492Z"
   },
   {
    "duration": 21,
    "start_time": "2023-03-19T01:29:02.523Z"
   },
   {
    "duration": 26,
    "start_time": "2023-03-19T01:29:02.545Z"
   },
   {
    "duration": 37,
    "start_time": "2023-03-19T01:29:02.572Z"
   },
   {
    "duration": 26,
    "start_time": "2023-03-19T01:29:02.611Z"
   },
   {
    "duration": 29,
    "start_time": "2023-03-19T01:29:02.639Z"
   },
   {
    "duration": 87,
    "start_time": "2023-03-19T01:29:02.670Z"
   },
   {
    "duration": 30,
    "start_time": "2023-03-19T01:29:02.759Z"
   },
   {
    "duration": 97,
    "start_time": "2023-03-19T01:29:02.791Z"
   },
   {
    "duration": 219,
    "start_time": "2023-03-19T01:29:02.890Z"
   },
   {
    "duration": 3,
    "start_time": "2023-03-19T01:29:03.113Z"
   },
   {
    "duration": 90,
    "start_time": "2023-03-19T01:29:03.190Z"
   },
   {
    "duration": 10,
    "start_time": "2023-03-19T01:29:03.282Z"
   },
   {
    "duration": 18,
    "start_time": "2023-03-19T01:29:03.294Z"
   },
   {
    "duration": 3,
    "start_time": "2023-03-19T01:29:03.313Z"
   },
   {
    "duration": 15,
    "start_time": "2023-03-19T01:29:03.317Z"
   },
   {
    "duration": 3,
    "start_time": "2023-03-19T01:29:03.333Z"
   },
   {
    "duration": 14,
    "start_time": "2023-03-19T01:29:03.338Z"
   },
   {
    "duration": 27,
    "start_time": "2023-03-19T01:29:03.353Z"
   },
   {
    "duration": 17,
    "start_time": "2023-03-19T01:29:03.381Z"
   },
   {
    "duration": 5,
    "start_time": "2023-03-19T01:29:03.400Z"
   },
   {
    "duration": 8,
    "start_time": "2023-03-19T01:29:03.406Z"
   },
   {
    "duration": 10,
    "start_time": "2023-03-19T01:29:03.415Z"
   },
   {
    "duration": 7,
    "start_time": "2023-03-19T01:29:03.426Z"
   },
   {
    "duration": 8,
    "start_time": "2023-03-19T01:29:03.434Z"
   },
   {
    "duration": 3,
    "start_time": "2023-03-19T01:29:03.443Z"
   },
   {
    "duration": 33,
    "start_time": "2023-03-19T01:29:03.447Z"
   },
   {
    "duration": 1397,
    "start_time": "2023-03-19T01:29:03.481Z"
   },
   {
    "duration": 1223,
    "start_time": "2023-03-19T01:29:43.892Z"
   },
   {
    "duration": 347,
    "start_time": "2023-03-19T01:29:45.117Z"
   },
   {
    "duration": 15,
    "start_time": "2023-03-19T01:29:45.465Z"
   },
   {
    "duration": 13,
    "start_time": "2023-03-19T01:29:45.482Z"
   },
   {
    "duration": 18,
    "start_time": "2023-03-19T01:29:45.497Z"
   },
   {
    "duration": 26,
    "start_time": "2023-03-19T01:29:45.516Z"
   },
   {
    "duration": 7,
    "start_time": "2023-03-19T01:29:45.543Z"
   },
   {
    "duration": 33,
    "start_time": "2023-03-19T01:29:45.552Z"
   },
   {
    "duration": 10,
    "start_time": "2023-03-19T01:29:45.586Z"
   },
   {
    "duration": 70,
    "start_time": "2023-03-19T01:29:45.597Z"
   },
   {
    "duration": 20,
    "start_time": "2023-03-19T01:29:45.669Z"
   },
   {
    "duration": 93,
    "start_time": "2023-03-19T01:29:45.690Z"
   },
   {
    "duration": 194,
    "start_time": "2023-03-19T01:29:45.788Z"
   },
   {
    "duration": 127,
    "start_time": "2023-03-19T01:29:45.985Z"
   },
   {
    "duration": 12,
    "start_time": "2023-03-19T01:29:46.116Z"
   },
   {
    "duration": 15,
    "start_time": "2023-03-19T01:29:46.130Z"
   },
   {
    "duration": 15,
    "start_time": "2023-03-19T01:29:46.147Z"
   },
   {
    "duration": 5,
    "start_time": "2023-03-19T01:29:46.165Z"
   },
   {
    "duration": 21,
    "start_time": "2023-03-19T01:29:46.171Z"
   },
   {
    "duration": 4,
    "start_time": "2023-03-19T01:29:46.193Z"
   },
   {
    "duration": 18,
    "start_time": "2023-03-19T01:29:46.202Z"
   },
   {
    "duration": 3,
    "start_time": "2023-03-19T01:29:46.221Z"
   },
   {
    "duration": 20,
    "start_time": "2023-03-19T01:29:46.226Z"
   },
   {
    "duration": 4,
    "start_time": "2023-03-19T01:29:46.247Z"
   },
   {
    "duration": 6,
    "start_time": "2023-03-19T01:29:46.252Z"
   },
   {
    "duration": 24,
    "start_time": "2023-03-19T01:29:46.259Z"
   },
   {
    "duration": 9,
    "start_time": "2023-03-19T01:29:46.287Z"
   },
   {
    "duration": 11,
    "start_time": "2023-03-19T01:29:46.298Z"
   },
   {
    "duration": 3,
    "start_time": "2023-03-19T01:29:46.310Z"
   },
   {
    "duration": 8,
    "start_time": "2023-03-19T01:29:46.314Z"
   },
   {
    "duration": 1429,
    "start_time": "2023-03-19T01:29:46.323Z"
   },
   {
    "duration": 1309,
    "start_time": "2023-03-19T01:30:30.624Z"
   },
   {
    "duration": 1257,
    "start_time": "2023-03-19T01:30:32.739Z"
   },
   {
    "duration": 14,
    "start_time": "2023-03-19T01:30:34.878Z"
   },
   {
    "duration": 9,
    "start_time": "2023-03-19T01:33:55.460Z"
   },
   {
    "duration": 1300,
    "start_time": "2023-03-19T01:37:05.843Z"
   },
   {
    "duration": 356,
    "start_time": "2023-03-19T01:37:07.145Z"
   },
   {
    "duration": 14,
    "start_time": "2023-03-19T01:37:07.502Z"
   },
   {
    "duration": 14,
    "start_time": "2023-03-19T01:37:07.518Z"
   },
   {
    "duration": 8,
    "start_time": "2023-03-19T01:37:07.534Z"
   },
   {
    "duration": 37,
    "start_time": "2023-03-19T01:37:07.543Z"
   },
   {
    "duration": 9,
    "start_time": "2023-03-19T01:37:07.582Z"
   },
   {
    "duration": 24,
    "start_time": "2023-03-19T01:37:07.594Z"
   },
   {
    "duration": 9,
    "start_time": "2023-03-19T01:37:07.620Z"
   },
   {
    "duration": 84,
    "start_time": "2023-03-19T01:37:07.631Z"
   },
   {
    "duration": 66,
    "start_time": "2023-03-19T01:37:07.716Z"
   },
   {
    "duration": 109,
    "start_time": "2023-03-19T01:37:07.785Z"
   },
   {
    "duration": 205,
    "start_time": "2023-03-19T01:37:07.896Z"
   },
   {
    "duration": 80,
    "start_time": "2023-03-19T01:37:08.109Z"
   },
   {
    "duration": 105,
    "start_time": "2023-03-19T01:37:08.192Z"
   },
   {
    "duration": 6,
    "start_time": "2023-03-19T01:37:08.299Z"
   },
   {
    "duration": 19,
    "start_time": "2023-03-19T01:37:08.306Z"
   },
   {
    "duration": 3,
    "start_time": "2023-03-19T01:37:08.326Z"
   },
   {
    "duration": 17,
    "start_time": "2023-03-19T01:37:08.330Z"
   },
   {
    "duration": 3,
    "start_time": "2023-03-19T01:37:08.348Z"
   },
   {
    "duration": 37,
    "start_time": "2023-03-19T01:37:08.352Z"
   },
   {
    "duration": 4,
    "start_time": "2023-03-19T01:37:08.391Z"
   },
   {
    "duration": 24,
    "start_time": "2023-03-19T01:37:08.397Z"
   },
   {
    "duration": 3,
    "start_time": "2023-03-19T01:37:08.423Z"
   },
   {
    "duration": 4,
    "start_time": "2023-03-19T01:37:08.428Z"
   },
   {
    "duration": 19,
    "start_time": "2023-03-19T01:37:08.433Z"
   },
   {
    "duration": 13,
    "start_time": "2023-03-19T01:37:08.454Z"
   },
   {
    "duration": 31,
    "start_time": "2023-03-19T01:37:08.486Z"
   },
   {
    "duration": 3,
    "start_time": "2023-03-19T01:37:08.518Z"
   },
   {
    "duration": 7,
    "start_time": "2023-03-19T01:37:08.522Z"
   },
   {
    "duration": 1484,
    "start_time": "2023-03-19T01:37:08.530Z"
   },
   {
    "duration": 1464,
    "start_time": "2023-03-19T01:37:10.015Z"
   },
   {
    "duration": 1500,
    "start_time": "2023-03-19T01:37:11.481Z"
   },
   {
    "duration": 13,
    "start_time": "2023-03-19T01:37:12.984Z"
   },
   {
    "duration": 6,
    "start_time": "2023-03-19T01:37:39.719Z"
   },
   {
    "duration": 1418,
    "start_time": "2023-03-19T01:37:40.621Z"
   },
   {
    "duration": 1371,
    "start_time": "2023-03-19T01:37:45.989Z"
   },
   {
    "duration": 1224,
    "start_time": "2023-03-19T01:37:48.208Z"
   },
   {
    "duration": 6,
    "start_time": "2023-03-19T01:38:36.893Z"
   },
   {
    "duration": 1476,
    "start_time": "2023-03-19T01:38:38.386Z"
   },
   {
    "duration": 6,
    "start_time": "2023-03-19T01:39:40.581Z"
   },
   {
    "duration": 1173,
    "start_time": "2023-03-19T01:39:41.162Z"
   },
   {
    "duration": 1227,
    "start_time": "2023-03-19T01:39:45.657Z"
   },
   {
    "duration": 1232,
    "start_time": "2023-03-19T01:39:46.975Z"
   },
   {
    "duration": 1347,
    "start_time": "2023-03-19T01:41:34.755Z"
   },
   {
    "duration": 375,
    "start_time": "2023-03-19T01:41:36.105Z"
   },
   {
    "duration": 21,
    "start_time": "2023-03-19T01:41:36.482Z"
   },
   {
    "duration": 13,
    "start_time": "2023-03-19T01:41:36.505Z"
   },
   {
    "duration": 8,
    "start_time": "2023-03-19T01:41:36.519Z"
   },
   {
    "duration": 13,
    "start_time": "2023-03-19T01:41:36.528Z"
   },
   {
    "duration": 8,
    "start_time": "2023-03-19T01:41:36.542Z"
   },
   {
    "duration": 23,
    "start_time": "2023-03-19T01:41:36.580Z"
   },
   {
    "duration": 11,
    "start_time": "2023-03-19T01:41:36.605Z"
   },
   {
    "duration": 63,
    "start_time": "2023-03-19T01:41:36.618Z"
   },
   {
    "duration": 26,
    "start_time": "2023-03-19T01:41:36.683Z"
   },
   {
    "duration": 197,
    "start_time": "2023-03-19T01:41:36.710Z"
   },
   {
    "duration": 191,
    "start_time": "2023-03-19T01:41:36.910Z"
   },
   {
    "duration": 80,
    "start_time": "2023-03-19T01:41:37.106Z"
   },
   {
    "duration": 91,
    "start_time": "2023-03-19T01:41:37.194Z"
   },
   {
    "duration": 5,
    "start_time": "2023-03-19T01:41:37.287Z"
   },
   {
    "duration": 18,
    "start_time": "2023-03-19T01:41:37.294Z"
   },
   {
    "duration": 4,
    "start_time": "2023-03-19T01:41:37.314Z"
   },
   {
    "duration": 20,
    "start_time": "2023-03-19T01:41:37.320Z"
   },
   {
    "duration": 3,
    "start_time": "2023-03-19T01:41:37.341Z"
   },
   {
    "duration": 43,
    "start_time": "2023-03-19T01:41:37.346Z"
   },
   {
    "duration": 5,
    "start_time": "2023-03-19T01:41:37.391Z"
   },
   {
    "duration": 24,
    "start_time": "2023-03-19T01:41:37.398Z"
   },
   {
    "duration": 4,
    "start_time": "2023-03-19T01:41:37.423Z"
   },
   {
    "duration": 5,
    "start_time": "2023-03-19T01:41:37.428Z"
   },
   {
    "duration": 8,
    "start_time": "2023-03-19T01:41:37.434Z"
   },
   {
    "duration": 5,
    "start_time": "2023-03-19T01:41:37.443Z"
   },
   {
    "duration": 36,
    "start_time": "2023-03-19T01:41:37.451Z"
   },
   {
    "duration": 5,
    "start_time": "2023-03-19T01:41:37.488Z"
   },
   {
    "duration": 17,
    "start_time": "2023-03-19T01:41:37.497Z"
   },
   {
    "duration": 1357,
    "start_time": "2023-03-19T01:41:37.515Z"
   },
   {
    "duration": 1383,
    "start_time": "2023-03-19T01:41:38.880Z"
   },
   {
    "duration": 1282,
    "start_time": "2023-03-19T01:41:40.264Z"
   },
   {
    "duration": 9,
    "start_time": "2023-03-19T01:41:41.547Z"
   },
   {
    "duration": 1408,
    "start_time": "2023-03-28T10:43:11.989Z"
   },
   {
    "duration": 1141,
    "start_time": "2023-03-28T10:43:13.528Z"
   },
   {
    "duration": 12,
    "start_time": "2023-03-28T10:43:14.671Z"
   },
   {
    "duration": 14,
    "start_time": "2023-03-28T10:43:15.669Z"
   },
   {
    "duration": 14,
    "start_time": "2023-03-28T10:43:51.248Z"
   },
   {
    "duration": 38,
    "start_time": "2023-03-28T10:45:01.709Z"
   },
   {
    "duration": 32,
    "start_time": "2023-03-28T10:46:10.387Z"
   },
   {
    "duration": 13,
    "start_time": "2023-03-28T10:46:19.695Z"
   },
   {
    "duration": 41,
    "start_time": "2023-03-28T10:46:54.295Z"
   },
   {
    "duration": 52,
    "start_time": "2023-03-28T10:47:13.146Z"
   },
   {
    "duration": 62,
    "start_time": "2023-03-28T10:47:27.898Z"
   },
   {
    "duration": 68,
    "start_time": "2023-03-28T10:48:05.308Z"
   },
   {
    "duration": 75,
    "start_time": "2023-03-28T10:48:26.949Z"
   },
   {
    "duration": 75,
    "start_time": "2023-03-28T10:48:34.703Z"
   },
   {
    "duration": 75,
    "start_time": "2023-03-28T10:49:07.119Z"
   },
   {
    "duration": 262,
    "start_time": "2023-03-28T10:49:22.237Z"
   },
   {
    "duration": 86,
    "start_time": "2023-03-28T10:49:46.863Z"
   },
   {
    "duration": 86,
    "start_time": "2023-03-28T10:50:16.877Z"
   },
   {
    "duration": 271,
    "start_time": "2023-03-28T10:52:05.481Z"
   },
   {
    "duration": 78,
    "start_time": "2023-03-28T10:54:50.056Z"
   },
   {
    "duration": 4,
    "start_time": "2023-03-28T10:57:31.283Z"
   },
   {
    "duration": 10,
    "start_time": "2023-03-28T10:58:16.926Z"
   },
   {
    "duration": 4,
    "start_time": "2023-03-28T10:58:24.495Z"
   },
   {
    "duration": 367,
    "start_time": "2023-03-28T10:58:24.808Z"
   },
   {
    "duration": 10,
    "start_time": "2023-03-28T10:58:25.177Z"
   },
   {
    "duration": 14,
    "start_time": "2023-03-28T10:58:25.324Z"
   },
   {
    "duration": 95,
    "start_time": "2023-03-28T10:58:25.458Z"
   },
   {
    "duration": 10,
    "start_time": "2023-03-28T10:58:25.625Z"
   },
   {
    "duration": 15,
    "start_time": "2023-03-28T10:58:25.760Z"
   },
   {
    "duration": 85,
    "start_time": "2023-03-28T10:58:25.935Z"
   },
   {
    "duration": 10,
    "start_time": "2023-03-28T10:58:26.121Z"
   },
   {
    "duration": 20,
    "start_time": "2023-03-28T10:58:26.301Z"
   },
   {
    "duration": 102,
    "start_time": "2023-03-28T10:58:26.486Z"
   },
   {
    "duration": 276,
    "start_time": "2023-03-28T10:58:26.667Z"
   },
   {
    "duration": 9,
    "start_time": "2023-03-28T10:58:28.041Z"
   },
   {
    "duration": 67,
    "start_time": "2023-03-28T10:58:28.513Z"
   },
   {
    "duration": 4,
    "start_time": "2023-03-28T10:58:29.298Z"
   },
   {
    "duration": 113,
    "start_time": "2023-03-28T10:58:31.871Z"
   },
   {
    "duration": 3,
    "start_time": "2023-03-28T10:59:06.545Z"
   },
   {
    "duration": 69,
    "start_time": "2023-03-28T10:59:07.101Z"
   },
   {
    "duration": 3,
    "start_time": "2023-03-28T10:59:51.861Z"
   },
   {
    "duration": 7,
    "start_time": "2023-03-28T10:59:52.119Z"
   },
   {
    "duration": 77,
    "start_time": "2023-03-28T11:00:11.391Z"
   },
   {
    "duration": 12,
    "start_time": "2023-03-28T11:00:57.527Z"
   },
   {
    "duration": 12,
    "start_time": "2023-03-28T11:00:57.875Z"
   },
   {
    "duration": 4,
    "start_time": "2023-03-28T11:01:10.285Z"
   },
   {
    "duration": 76,
    "start_time": "2023-03-28T11:04:25.999Z"
   },
   {
    "duration": 19,
    "start_time": "2023-03-28T11:04:26.387Z"
   },
   {
    "duration": 3,
    "start_time": "2023-03-28T11:04:34.124Z"
   },
   {
    "duration": 21,
    "start_time": "2023-03-28T11:04:35.061Z"
   },
   {
    "duration": 3,
    "start_time": "2023-03-28T11:04:49.676Z"
   },
   {
    "duration": 13,
    "start_time": "2023-03-28T11:04:50.018Z"
   },
   {
    "duration": 19,
    "start_time": "2023-03-28T11:04:50.487Z"
   },
   {
    "duration": 12,
    "start_time": "2023-03-28T11:04:50.861Z"
   },
   {
    "duration": 4,
    "start_time": "2023-03-28T11:09:49.143Z"
   },
   {
    "duration": 15,
    "start_time": "2023-03-28T11:09:49.693Z"
   },
   {
    "duration": 22,
    "start_time": "2023-03-28T11:10:15.021Z"
   },
   {
    "duration": 71,
    "start_time": "2023-03-28T11:12:19.784Z"
   },
   {
    "duration": 5,
    "start_time": "2023-03-28T11:12:26.790Z"
   },
   {
    "duration": 91,
    "start_time": "2023-03-28T11:13:21.860Z"
   },
   {
    "duration": 3,
    "start_time": "2023-03-28T11:13:40.021Z"
   },
   {
    "duration": 19,
    "start_time": "2023-03-28T11:13:43.535Z"
   },
   {
    "duration": 4,
    "start_time": "2023-03-28T11:13:56.965Z"
   },
   {
    "duration": 12,
    "start_time": "2023-03-28T11:14:00.336Z"
   },
   {
    "duration": 13,
    "start_time": "2023-03-28T11:14:15.832Z"
   },
   {
    "duration": 3,
    "start_time": "2023-03-28T11:14:41.278Z"
   },
   {
    "duration": 16,
    "start_time": "2023-03-28T11:14:42.546Z"
   },
   {
    "duration": 12,
    "start_time": "2023-03-28T11:14:53.053Z"
   },
   {
    "duration": 17,
    "start_time": "2023-03-28T11:14:57.733Z"
   },
   {
    "duration": 14,
    "start_time": "2023-03-28T11:15:13.023Z"
   },
   {
    "duration": 12,
    "start_time": "2023-03-28T11:15:13.590Z"
   },
   {
    "duration": 4,
    "start_time": "2023-03-28T11:15:16.368Z"
   },
   {
    "duration": 6,
    "start_time": "2023-03-28T11:17:03.279Z"
   },
   {
    "duration": 3,
    "start_time": "2023-03-28T11:17:07.020Z"
   },
   {
    "duration": 11,
    "start_time": "2023-03-28T11:17:09.595Z"
   },
   {
    "duration": 11,
    "start_time": "2023-03-28T11:17:47.758Z"
   },
   {
    "duration": 4,
    "start_time": "2023-03-28T11:17:49.443Z"
   },
   {
    "duration": 15,
    "start_time": "2023-03-28T11:17:51.518Z"
   },
   {
    "duration": 4,
    "start_time": "2023-03-28T11:17:54.351Z"
   },
   {
    "duration": 14,
    "start_time": "2023-03-28T11:17:57.749Z"
   },
   {
    "duration": 3,
    "start_time": "2023-03-28T11:17:59.714Z"
   },
   {
    "duration": 13,
    "start_time": "2023-03-28T11:18:03.398Z"
   },
   {
    "duration": 3,
    "start_time": "2023-03-28T11:18:04.949Z"
   },
   {
    "duration": 3,
    "start_time": "2023-03-28T11:18:09.291Z"
   },
   {
    "duration": 7,
    "start_time": "2023-03-28T11:18:10.728Z"
   },
   {
    "duration": 7,
    "start_time": "2023-03-28T11:18:12.479Z"
   },
   {
    "duration": 6,
    "start_time": "2023-03-28T11:18:12.773Z"
   },
   {
    "duration": 1203,
    "start_time": "2023-03-28T11:30:49.527Z"
   },
   {
    "duration": 304,
    "start_time": "2023-03-28T11:30:50.731Z"
   },
   {
    "duration": 11,
    "start_time": "2023-03-28T11:30:51.037Z"
   },
   {
    "duration": 19,
    "start_time": "2023-03-28T11:30:51.049Z"
   },
   {
    "duration": 77,
    "start_time": "2023-03-28T11:30:51.070Z"
   },
   {
    "duration": 20,
    "start_time": "2023-03-28T11:30:51.148Z"
   },
   {
    "duration": 16,
    "start_time": "2023-03-28T11:30:51.170Z"
   },
   {
    "duration": 81,
    "start_time": "2023-03-28T11:30:51.187Z"
   },
   {
    "duration": 8,
    "start_time": "2023-03-28T11:30:51.270Z"
   },
   {
    "duration": 14,
    "start_time": "2023-03-28T11:30:51.279Z"
   },
   {
    "duration": 87,
    "start_time": "2023-03-28T11:30:51.295Z"
   },
   {
    "duration": 249,
    "start_time": "2023-03-28T11:30:51.384Z"
   },
   {
    "duration": 8,
    "start_time": "2023-03-28T11:30:51.635Z"
   },
   {
    "duration": 69,
    "start_time": "2023-03-28T11:30:51.645Z"
   },
   {
    "duration": 3,
    "start_time": "2023-03-28T11:30:51.716Z"
   },
   {
    "duration": 52,
    "start_time": "2023-03-28T11:30:51.720Z"
   },
   {
    "duration": 100,
    "start_time": "2023-03-28T11:30:51.774Z"
   },
   {
    "duration": 101,
    "start_time": "2023-03-28T11:30:51.875Z"
   },
   {
    "duration": 93,
    "start_time": "2023-03-28T11:30:51.977Z"
   },
   {
    "duration": 6,
    "start_time": "2023-03-28T11:30:52.072Z"
   },
   {
    "duration": 3,
    "start_time": "2023-03-28T11:30:52.169Z"
   },
   {
    "duration": 6,
    "start_time": "2023-03-28T11:30:52.174Z"
   },
   {
    "duration": 17,
    "start_time": "2023-03-28T11:30:52.182Z"
   },
   {
    "duration": 3,
    "start_time": "2023-03-28T11:30:52.200Z"
   },
   {
    "duration": 12,
    "start_time": "2023-03-28T11:30:52.205Z"
   },
   {
    "duration": 3,
    "start_time": "2023-03-28T11:30:52.218Z"
   },
   {
    "duration": 12,
    "start_time": "2023-03-28T11:30:52.223Z"
   },
   {
    "duration": 3,
    "start_time": "2023-03-28T11:30:52.268Z"
   },
   {
    "duration": 4,
    "start_time": "2023-03-28T11:30:52.272Z"
   },
   {
    "duration": 16,
    "start_time": "2023-03-28T11:30:52.278Z"
   },
   {
    "duration": 5,
    "start_time": "2023-03-28T11:30:52.295Z"
   },
   {
    "duration": 6,
    "start_time": "2023-03-28T11:30:52.301Z"
   },
   {
    "duration": 3,
    "start_time": "2023-03-28T11:30:52.308Z"
   },
   {
    "duration": 6,
    "start_time": "2023-03-28T11:30:52.312Z"
   },
   {
    "duration": 1368,
    "start_time": "2023-03-28T11:30:52.319Z"
   },
   {
    "duration": 1255,
    "start_time": "2023-03-28T11:30:53.688Z"
   },
   {
    "duration": 1272,
    "start_time": "2023-03-28T11:30:54.945Z"
   },
   {
    "duration": 9,
    "start_time": "2023-03-28T11:30:56.219Z"
   }
  ],
  "kernelspec": {
   "display_name": "Python 3 (ipykernel)",
   "language": "python",
   "name": "python3"
  },
  "language_info": {
   "codemirror_mode": {
    "name": "ipython",
    "version": 3
   },
   "file_extension": ".py",
   "mimetype": "text/x-python",
   "name": "python",
   "nbconvert_exporter": "python",
   "pygments_lexer": "ipython3",
   "version": "3.9.5"
  },
  "toc": {
   "base_numbering": 1,
   "nav_menu": {},
   "number_sections": true,
   "sideBar": true,
   "skip_h1_title": true,
   "title_cell": "Table of Contents",
   "title_sidebar": "Contents",
   "toc_cell": false,
   "toc_position": {},
   "toc_section_display": true,
   "toc_window_display": false
  }
 },
 "nbformat": 4,
 "nbformat_minor": 2
}
